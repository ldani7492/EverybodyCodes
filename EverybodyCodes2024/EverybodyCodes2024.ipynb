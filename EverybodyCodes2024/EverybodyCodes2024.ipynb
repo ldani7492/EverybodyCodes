{
 "cells": [
  {
   "cell_type": "markdown",
   "id": "59753625-f33f-4d0e-9c39-a8a7e7c8f850",
   "metadata": {},
   "source": [
    "# Everybody Codes 2024"
   ]
  },
  {
   "cell_type": "markdown",
   "id": "e2f5f0f5-d441-4da6-b3d6-7f2eb5bf901f",
   "metadata": {},
   "source": [
    "## Quest 1"
   ]
  },
  {
   "cell_type": "markdown",
   "id": "a49e05bd-e97e-4e49-81a9-a1df4dc20bd7",
   "metadata": {},
   "source": [
    "### Part 1"
   ]
  },
  {
   "cell_type": "code",
   "execution_count": 12,
   "id": "cbe012e1-932f-49be-b035-299ec111b29e",
   "metadata": {},
   "outputs": [
    {
     "data": {
      "text/plain": [
       "1317"
      ]
     },
     "execution_count": 12,
     "metadata": {},
     "output_type": "execute_result"
    }
   ],
   "source": [
    "with open('inputs/everybody_codes_e2024_q01_p1.txt') as f:\n",
    "    s = f.read()\n",
    "\n",
    "potions = {'A': 0, 'B': 1, 'C': 3}\n",
    "\n",
    "sum([potions[c] for c in s])"
   ]
  },
  {
   "cell_type": "markdown",
   "id": "a6ed87b9-c498-4cbe-b541-455ae000d752",
   "metadata": {},
   "source": [
    "### Part 2"
   ]
  },
  {
   "cell_type": "code",
   "execution_count": 33,
   "id": "5b92c9dc-850f-495d-bb23-b5dcb37e8b54",
   "metadata": {},
   "outputs": [
    {
     "data": {
      "text/plain": [
       "5803"
      ]
     },
     "execution_count": 33,
     "metadata": {},
     "output_type": "execute_result"
    }
   ],
   "source": [
    "with open('inputs/everybody_codes_e2024_q01_p2.txt') as f:\n",
    "    s = f.read()\n",
    "\n",
    "potions = {'A': 0, 'B': 1, 'C': 3, 'D': 5}\n",
    "empty_extra = {0: 2, 1: 0, 2: 0}\n",
    "\n",
    "def potions_needed(p):\n",
    "    return sum([potions.get(c,0) for c in p]) + empty_extra[p.count('x')]\n",
    "\n",
    "sum([potions_needed(s[i:i+2]) for i in range(0,len(s),2)])"
   ]
  },
  {
   "cell_type": "markdown",
   "id": "3c2f3f02-1cb8-45f4-b328-9306051be646",
   "metadata": {},
   "source": [
    "### Part 3"
   ]
  },
  {
   "cell_type": "code",
   "execution_count": 34,
   "id": "ca5d6d1c-a85d-4c01-819a-63992e03e38d",
   "metadata": {},
   "outputs": [
    {
     "data": {
      "text/plain": [
       "27751"
      ]
     },
     "execution_count": 34,
     "metadata": {},
     "output_type": "execute_result"
    }
   ],
   "source": [
    "with open('inputs/everybody_codes_e2024_q01_p3.txt') as f:\n",
    "    s = f.read()\n",
    "\n",
    "empty_extra = {0: 6, 1: 2, 2: 0, 3:0}\n",
    "\n",
    "sum([pair_potions(s[i:i+3]) for i in range(0,len(s),3)])"
   ]
  },
  {
   "cell_type": "markdown",
   "id": "d63f33cb-c486-462e-8b1e-838917fc0f99",
   "metadata": {},
   "source": [
    "## Quest 2"
   ]
  },
  {
   "cell_type": "markdown",
   "id": "fbbced86-1b33-4e76-9325-e2dc28b0b337",
   "metadata": {},
   "source": [
    "### Part 1"
   ]
  },
  {
   "cell_type": "code",
   "execution_count": 42,
   "id": "c41bf598-6740-4f92-815f-6b4881a00c11",
   "metadata": {},
   "outputs": [
    {
     "data": {
      "text/plain": [
       "32"
      ]
     },
     "execution_count": 42,
     "metadata": {},
     "output_type": "execute_result"
    }
   ],
   "source": [
    "with open('inputs/everybody_codes_e2024_q02_p1.txt') as f:\n",
    "    s = f.read().split('\\n\\n')\n",
    "\n",
    "words = s[0].split(':')[1].split(',')\n",
    "inscription = s[1]\n",
    "\n",
    "sum([inscription.count(w) for w in words])"
   ]
  },
  {
   "cell_type": "markdown",
   "id": "845ad3d4-fd3a-415c-a7da-5d02f7829f3f",
   "metadata": {},
   "source": [
    "## Part 2"
   ]
  },
  {
   "cell_type": "code",
   "execution_count": 85,
   "id": "f623989b-c089-483b-9d2e-e08a054d98ee",
   "metadata": {},
   "outputs": [
    {
     "data": {
      "text/plain": [
       "5341"
      ]
     },
     "execution_count": 85,
     "metadata": {},
     "output_type": "execute_result"
    }
   ],
   "source": [
    "with open('inputs/everybody_codes_e2024_q02_p2.txt') as f:\n",
    "    s = f.read().split('\\n\\n')\n",
    "\n",
    "words = s[0].split(':')[1].split(',')\n",
    "words = set(words + [w[::-1] for w in words])\n",
    "inscriptions = s[1].split('\\n')\n",
    "\n",
    "def symbols_for_word(insc, word):\n",
    "    l = len(word)\n",
    "    symbols = [list(range(i,i+l)) for i in range(len(insc)-l+1) if insc[i:i+l] == word]\n",
    "    return {sym for w in symbols for sym in w}\n",
    "\n",
    "def symbol_count(insc, words):\n",
    "    symbols = [symbols_for_word(insc, word) for word in words]\n",
    "    return len({sym for w in symbols for sym in w})\n",
    "\n",
    "sum([symbol_count(insc, words) for insc in inscriptions])"
   ]
  },
  {
   "cell_type": "markdown",
   "id": "341e8f55-2bb8-4ca1-85f5-96c18b47dbd7",
   "metadata": {},
   "source": [
    "### Part 3"
   ]
  },
  {
   "cell_type": "code",
   "execution_count": 146,
   "id": "96f1a070-d493-4f71-9a90-d1e2d2e38234",
   "metadata": {},
   "outputs": [
    {
     "data": {
      "text/plain": [
       "11677"
      ]
     },
     "execution_count": 146,
     "metadata": {},
     "output_type": "execute_result"
    }
   ],
   "source": [
    "with open('inputs/everybody_codes_e2024_q02_p3.txt') as f:\n",
    "    s = f.read().split('\\n\\n')\n",
    "\n",
    "words = s[0].split(':')[1].split(',')\n",
    "words = set(words + [w[::-1] for w in words])\n",
    "inscriptions = s[1].split('\\n')\n",
    "\n",
    "def get_word(insc, start, l):\n",
    "    if start+l <= len(insc):\n",
    "        return insc[start:start+l]\n",
    "    return insc[start:start+l] + insc[0:start+l-len(insc)]\n",
    "\n",
    "def symbols_for_word_wrap(insc, word):\n",
    "    l = len(word)\n",
    "    symbols = [list(range(i, i+l)) for i in range(len(insc)) if get_word(insc, i, l) == word]\n",
    "    return {(sym%len(insc)) for w in symbols for sym in w}\n",
    "\n",
    "def symbols_for_word(insc, word):\n",
    "    l = len(word)\n",
    "    symbols = [list(range(i,i+l)) for i in range(len(insc)-l+1) if insc[i:i+l] == word]\n",
    "    return {sym for w in symbols for sym in w}\n",
    "\n",
    "def symbols_in_inscription_wrap(insc):\n",
    "    symbols = [symbols_for_word_wrap(insc, word) for word in words]\n",
    "    return {sym for w in symbols for sym in w}\n",
    "\n",
    "def symbols_in_inscription(insc):\n",
    "    symbols = [symbols_for_word(insc, word) for word in words]\n",
    "    return {sym for w in symbols for sym in w}\n",
    "\n",
    "def symbols_h():\n",
    "    return {(x,y) for y, insc in enumerate(inscriptions) for x in symbols_in_inscription_wrap(insc)}\n",
    "\n",
    "def transpose(m):\n",
    "    return [''.join([m[y][x] for y in range(len(m))]) for x in range(len(m[0]))]\n",
    "\n",
    "def symbols_v():\n",
    "    inscriptions_t = transpose(inscriptions)\n",
    "    return {(x,y) for x, insc in enumerate(inscriptions_t) for y in symbols_in_inscription(insc)}\n",
    "\n",
    "def symbols():\n",
    "    return {sym for w in [symbols_h(), symbols_v()] for sym in w}\n",
    "\n",
    "len(symbols())"
   ]
  },
  {
   "cell_type": "markdown",
   "id": "6bb03997-426b-489b-9b9a-deb202469d64",
   "metadata": {},
   "source": [
    "## Quest 3"
   ]
  },
  {
   "cell_type": "markdown",
   "id": "9207af71-68c8-4828-b2ae-fac557450c43",
   "metadata": {},
   "source": [
    "### Part 1"
   ]
  },
  {
   "cell_type": "code",
   "execution_count": 149,
   "id": "e5b47b06-ba2e-4d2b-bced-8669d55b4dc4",
   "metadata": {},
   "outputs": [
    {
     "data": {
      "text/plain": [
       "132"
      ]
     },
     "execution_count": 149,
     "metadata": {},
     "output_type": "execute_result"
    }
   ],
   "source": [
    "with open('inputs/everybody_codes_e2024_q03_p1.txt') as f:\n",
    "    s = f.read().split('\\n')\n",
    "\n",
    "def init(s):\n",
    "    return [(x,y) for y,row in enumerate(s) for x,c in enumerate(row) if c == '#']\n",
    "\n",
    "def is_edge(diggable,x,y):\n",
    "    return not ((x,y) in diggable and (x-1,y) in diggable and (x+1,y) in diggable and (x,y-1) in diggable and (x,y+1) in diggable)\n",
    "\n",
    "def dig(diggable, extracted):\n",
    "    if len(diggable) == 0:\n",
    "        return extracted\n",
    "    next_layer = [(x,y) for (x,y) in diggable if not is_edge(diggable,x,y)]\n",
    "    return dig(next_layer, extracted+len(diggable))\n",
    "\n",
    "dig(init(s), 0)"
   ]
  },
  {
   "cell_type": "markdown",
   "id": "be0e9ccd-e2ab-447d-910d-61a143026fb2",
   "metadata": {},
   "source": [
    "### Part 2"
   ]
  },
  {
   "cell_type": "code",
   "execution_count": 150,
   "id": "13042c3e-cefa-46d2-a532-008d145b8bd9",
   "metadata": {},
   "outputs": [
    {
     "data": {
      "text/plain": [
       "2685"
      ]
     },
     "execution_count": 150,
     "metadata": {},
     "output_type": "execute_result"
    }
   ],
   "source": [
    "with open('inputs/everybody_codes_e2024_q03_p2.txt') as f:\n",
    "    s = f.read().split('\\n')\n",
    "\n",
    "dig(init(s), 0)"
   ]
  },
  {
   "cell_type": "markdown",
   "id": "96469101-066e-47ff-999b-6b087b2eb39a",
   "metadata": {},
   "source": [
    "### Part 3"
   ]
  },
  {
   "cell_type": "code",
   "execution_count": 155,
   "id": "8d53944d-89ad-43fa-9671-667afb6e5a8d",
   "metadata": {},
   "outputs": [
    {
     "data": {
      "text/plain": [
       "10153"
      ]
     },
     "execution_count": 155,
     "metadata": {},
     "output_type": "execute_result"
    }
   ],
   "source": [
    "with open('inputs/everybody_codes_e2024_q03_p3.txt') as f:\n",
    "    s = f.read().split('\\n')\n",
    "\n",
    "def is_edge(diggable,x,y):\n",
    "    d = [(x,y) for x in range(-1,2) for y in range(-1,2)]\n",
    "    coords = [(x+xd,y+yd) for (xd,yd) in d if (x+xd,y+yd) in diggable]\n",
    "    return len(coords) != len(d)\n",
    "\n",
    "def dig(diggable, extracted):\n",
    "    if len(diggable) == 0:\n",
    "        return extracted\n",
    "    next_layer = [(x,y) for (x,y) in diggable if not is_edge(diggable,x,y)]\n",
    "    return dig(next_layer, extracted+len(diggable))\n",
    "\n",
    "dig(init(s), 0)"
   ]
  },
  {
   "cell_type": "markdown",
   "id": "94319302-1311-448b-8ce8-7ebe3081390d",
   "metadata": {},
   "source": [
    "## Quest 4"
   ]
  },
  {
   "cell_type": "markdown",
   "id": "210f63e6-30f7-40b7-81bb-bc6dd43a350b",
   "metadata": {},
   "source": [
    "### Part 1"
   ]
  },
  {
   "cell_type": "code",
   "execution_count": 160,
   "id": "23176449-700d-4d42-a931-fd5dc478acef",
   "metadata": {},
   "outputs": [
    {
     "data": {
      "text/plain": [
       "67"
      ]
     },
     "execution_count": 160,
     "metadata": {},
     "output_type": "execute_result"
    }
   ],
   "source": [
    "with open('inputs/everybody_codes_e2024_q04_p1.txt') as f:\n",
    "    s = f.read().split('\\n')\n",
    "\n",
    "nails = [int(n) for n in s]\n",
    "min_n = min(nails)\n",
    "sum([n-min_n for n in nails])"
   ]
  },
  {
   "cell_type": "markdown",
   "id": "897957f7-58de-46e2-839e-c54681d92b75",
   "metadata": {},
   "source": [
    "### Part 2"
   ]
  },
  {
   "cell_type": "code",
   "execution_count": 161,
   "id": "f056c4b4-18ec-492e-9e80-ce8630ee3280",
   "metadata": {},
   "outputs": [
    {
     "data": {
      "text/plain": [
       "907911"
      ]
     },
     "execution_count": 161,
     "metadata": {},
     "output_type": "execute_result"
    }
   ],
   "source": [
    "with open('inputs/everybody_codes_e2024_q04_p2.txt') as f:\n",
    "    s = f.read().split('\\n')\n",
    "\n",
    "nails = [int(n) for n in s]\n",
    "min_n = min(nails)\n",
    "sum([n-min_n for n in nails])"
   ]
  },
  {
   "cell_type": "markdown",
   "id": "e638d037-c4bb-41aa-a785-167382d0dd67",
   "metadata": {},
   "source": [
    "### Part 3"
   ]
  },
  {
   "cell_type": "code",
   "execution_count": 165,
   "id": "06ba978d-38e0-4712-a11e-90d81f0643d3",
   "metadata": {},
   "outputs": [
    {
     "data": {
      "text/plain": [
       "127457778"
      ]
     },
     "execution_count": 165,
     "metadata": {},
     "output_type": "execute_result"
    }
   ],
   "source": [
    "with open('inputs/everybody_codes_e2024_q04_p3.txt') as f:\n",
    "    s = f.read().split('\\n')\n",
    "\n",
    "nails = [int(n) for n in s]\n",
    "\n",
    "def adjust_to(nails,h):\n",
    "    return sum([abs(n-h) for n in nails])\n",
    "\n",
    "min([adjust_to(nails,h) for h in nails])"
   ]
  },
  {
   "cell_type": "markdown",
   "id": "80d051ae-e5f0-4c12-8948-eac37d7a803e",
   "metadata": {},
   "source": [
    "## Quest 5"
   ]
  },
  {
   "cell_type": "markdown",
   "id": "ee9428e4-e7c8-4fee-8535-1455dbd81560",
   "metadata": {},
   "source": [
    "### Part 1"
   ]
  },
  {
   "cell_type": "code",
   "execution_count": 18,
   "id": "41e71975-f893-435f-a1ff-7a11fcc9924b",
   "metadata": {},
   "outputs": [
    {
     "data": {
      "text/plain": [
       "2235"
      ]
     },
     "execution_count": 18,
     "metadata": {},
     "output_type": "execute_result"
    }
   ],
   "source": [
    "with open('inputs/everybody_codes_e2024_q05_p1.txt') as f:\n",
    "    s = f.read().split('\\n')\n",
    "\n",
    "rows = [[int(c) for c in row.split(' ')] for row in s]\n",
    "cols = [[rows[y][x] for y in range(len(rows))] for x in range(len(rows[0]))]\n",
    "\n",
    "def absorb_at(n,l):\n",
    "    return l-abs((n-1)%(l*2)-l)\n",
    "    \n",
    "def move(cols, c):\n",
    "    n = cols[c][0]\n",
    "    next_col_idx = (c+1) % len(cols)\n",
    "    cols[c] = cols[c][1:]\n",
    "    move_to = absorb_at(n,len(cols[next_col_idx]))\n",
    "    cols[next_col_idx] = cols[next_col_idx][:move_to] + [n] + cols[next_col_idx][move_to:]\n",
    "    return cols\n",
    "\n",
    "def result(cols):\n",
    "    return int(''.join([str(c[0]) for c in cols]))\n",
    "\n",
    "for i in range(10):\n",
    "    cols = move(cols, i%len(cols))\n",
    "\n",
    "result(cols)"
   ]
  },
  {
   "cell_type": "markdown",
   "id": "3340f25a-edfe-4e52-b67a-a42c52a927a7",
   "metadata": {},
   "source": [
    "### Part 2"
   ]
  },
  {
   "cell_type": "code",
   "execution_count": 35,
   "id": "815a2886-3597-4f60-8217-9e66b9bfa5e9",
   "metadata": {},
   "outputs": [
    {
     "data": {
      "text/plain": [
       "17005087678734"
      ]
     },
     "execution_count": 35,
     "metadata": {},
     "output_type": "execute_result"
    }
   ],
   "source": [
    "with open('inputs/everybody_codes_e2024_q05_p2.txt') as f:\n",
    "    s = f.read().split('\\n')\n",
    "\n",
    "rows = [[int(c) for c in row.split(' ')] for row in s]\n",
    "cols = [[rows[y][x] for y in range(len(rows))] for x in range(len(rows[0]))]\n",
    "\n",
    "result_count = dict()\n",
    "last_count = 0\n",
    "round_count = 0\n",
    "while last_count < 2024:\n",
    "    cols = move(cols, round_count % len(cols))\n",
    "    res = result(cols)\n",
    "    last_count = result_count.get(res,0)+1\n",
    "    result_count[res] = last_count\n",
    "    round_count += 1\n",
    "\n",
    "round_count*res"
   ]
  },
  {
   "cell_type": "markdown",
   "id": "a6fecf7a-67a4-4fcd-a4a4-7fe3641261eb",
   "metadata": {},
   "source": [
    "### Part 3"
   ]
  },
  {
   "cell_type": "code",
   "execution_count": 39,
   "id": "9da487a1-3c7d-4d0f-ae18-6c5b795c2822",
   "metadata": {},
   "outputs": [
    {
     "data": {
      "text/plain": [
       "5491100510091000"
      ]
     },
     "execution_count": 39,
     "metadata": {},
     "output_type": "execute_result"
    }
   ],
   "source": [
    "with open('inputs/everybody_codes_e2024_q05_p3.txt') as f:\n",
    "    s = f.read().split('\\n')\n",
    "\n",
    "rows = [[int(c) for c in row.split(' ')] for row in s]\n",
    "cols = [[rows[y][x] for y in range(len(rows))] for x in range(len(rows[0]))]\n",
    "\n",
    "def to_state(cols, round_number):\n",
    "    next_col = round_number % len(cols)\n",
    "    return (tuple(tuple(col) for col in cols),next_col)\n",
    "\n",
    "states = dict()\n",
    "round_number = 0\n",
    "current_state = to_state(cols, round_number)\n",
    "\n",
    "while current_state not in states:\n",
    "    states[current_state] = result(cols)\n",
    "    cols = move(cols, round_number%len(cols))\n",
    "    round_number += 1\n",
    "    current_state = to_state(cols, round_number)\n",
    "\n",
    "max(states.values())"
   ]
  },
  {
   "cell_type": "markdown",
   "id": "248fd358-8594-47b1-b257-9c185aa4cadf",
   "metadata": {},
   "source": [
    "## Quest 6"
   ]
  },
  {
   "cell_type": "markdown",
   "id": "ed5bda6a-21cf-4ad8-a6fc-827eab9c5856",
   "metadata": {},
   "source": [
    "### Part 1"
   ]
  },
  {
   "cell_type": "code",
   "execution_count": 124,
   "id": "0bb9aee1-7918-48fa-b01f-d76d98058cbe",
   "metadata": {},
   "outputs": [
    {
     "data": {
      "text/plain": [
       "'RRHCZGCVCNRV@'"
      ]
     },
     "execution_count": 124,
     "metadata": {},
     "output_type": "execute_result"
    }
   ],
   "source": [
    "with open('inputs/everybody_codes_e2024_q06_p1.txt') as f:\n",
    "    s = f.read().split('\\n')\n",
    "\n",
    "branches = {row.split(':')[0]: row.split(':')[1].split(',') for row in s}\n",
    "\n",
    "def flatten(l):\n",
    "    if not isinstance(l,list):\n",
    "        return [l]\n",
    "    flat = []\n",
    "    for sl in l:\n",
    "        flat.extend(flatten(sl))\n",
    "    return flat\n",
    "\n",
    "def traverse(current, path):\n",
    "    new_path = path + [current]\n",
    "    if current == '@':\n",
    "        return tuple(new_path)\n",
    "    if current not in branches or current == 'BUG' or current == 'ANT':\n",
    "        return\n",
    "    results = [traverse(branch, new_path) for branch in branches[current]]\n",
    "    results = [br for br in results if br is not None and len(br) != 0]\n",
    "    return results\n",
    "\n",
    "def find_strongest(branches):\n",
    "    apples = flatten(traverse('RR', []))\n",
    "    lengths = {a: len(a) for a in apples}\n",
    "    length_count = {v: list(lengths.values()).count(v) for v in lengths.values()}\n",
    "    unique_lengths = {l:lengths[l] for l in lengths if length_count[lengths[l]] == 1}\n",
    "    return min(unique_lengths, key=unique_lengths.get)\n",
    "\n",
    "strongest = find_strongest(branches)\n",
    "''.join(strongest)"
   ]
  },
  {
   "cell_type": "markdown",
   "id": "18a668fa-5aa5-4162-92e2-4e820f933992",
   "metadata": {},
   "source": [
    "### Part 2"
   ]
  },
  {
   "cell_type": "code",
   "execution_count": 125,
   "id": "da40c112-bf24-4b5f-8d4c-a5725c6eee0d",
   "metadata": {},
   "outputs": [
    {
     "data": {
      "text/plain": [
       "'RZBZFSCKCX@'"
      ]
     },
     "execution_count": 125,
     "metadata": {},
     "output_type": "execute_result"
    }
   ],
   "source": [
    "with open('inputs/everybody_codes_e2024_q06_p2.txt') as f:\n",
    "    s = f.read().split('\\n')\n",
    "\n",
    "branches = {row.split(':')[0]: row.split(':')[1].split(',') for row in s}\n",
    "\n",
    "strongest = find_strongest(branches)\n",
    "''.join([c[0] for c in strongest])"
   ]
  },
  {
   "cell_type": "markdown",
   "id": "a0d6b64a-33d8-4123-8306-05e98ae163a2",
   "metadata": {},
   "source": [
    "### Part 3"
   ]
  },
  {
   "cell_type": "code",
   "execution_count": 126,
   "id": "32d34f47-0092-4abb-a9ef-26a28f7db28d",
   "metadata": {},
   "outputs": [
    {
     "data": {
      "text/plain": [
       "'RZHKTSNDCLLP@'"
      ]
     },
     "execution_count": 126,
     "metadata": {},
     "output_type": "execute_result"
    }
   ],
   "source": [
    "with open('inputs/everybody_codes_e2024_q06_p3.txt') as f:\n",
    "    s = f.read().split('\\n')\n",
    "\n",
    "branches = {row.split(':')[0]: row.split(':')[1].split(',') for row in s}\n",
    "\n",
    "strongest = find_strongest(branches)\n",
    "''.join([c[0] for c in strongest])"
   ]
  },
  {
   "cell_type": "markdown",
   "id": "5c79b7b2-7fdd-46e2-aed4-96aab091b652",
   "metadata": {},
   "source": [
    "## Quest 7"
   ]
  },
  {
   "cell_type": "markdown",
   "id": "4266e036-0f64-4792-bbd3-40eac1bb5b01",
   "metadata": {},
   "source": [
    "### Part 1"
   ]
  },
  {
   "cell_type": "code",
   "execution_count": 2,
   "id": "2a53ecce-4191-462a-bad0-31a08be060dc",
   "metadata": {},
   "outputs": [
    {
     "data": {
      "text/plain": [
       "'EHKICJDGA'"
      ]
     },
     "execution_count": 2,
     "metadata": {},
     "output_type": "execute_result"
    }
   ],
   "source": [
    "with open('inputs/everybody_codes_e2024_q07_p1.txt') as f:\n",
    "    s = f.read().split('\\n')\n",
    "\n",
    "plans = {row.split(':')[0]: row.split(':')[1].split(',') for row in s}\n",
    "\n",
    "def action(value, segment, plan):\n",
    "    act = plan[segment % len(plan)]\n",
    "    if act == '+':\n",
    "        return value+1\n",
    "    if act == '-':\n",
    "        return max(0, value-1)\n",
    "    return value\n",
    "\n",
    "def run_for(plan, segments):\n",
    "    value = 10\n",
    "    essence = 0\n",
    "    for i in range(segments):\n",
    "        value = action(value, i, plan)\n",
    "        essence += value\n",
    "    return essence\n",
    "\n",
    "plan_essences = {plan: run_for(plans[plan], 10) for plan in plans}\n",
    "''.join(sorted([plan for plan in plans], key=plan_essences.get, reverse=True))"
   ]
  },
  {
   "cell_type": "markdown",
   "id": "624316b9-ef94-4123-813e-3a396c941018",
   "metadata": {},
   "source": [
    "### Part 2"
   ]
  },
  {
   "cell_type": "code",
   "execution_count": 3,
   "id": "534d47ea-8ed1-489e-b093-85232033e8e1",
   "metadata": {},
   "outputs": [
    {
     "data": {
      "text/plain": [
       "'JGBKEAIFD'"
      ]
     },
     "execution_count": 3,
     "metadata": {},
     "output_type": "execute_result"
    }
   ],
   "source": [
    "with open('inputs/everybody_codes_e2024_q07_p2.txt') as f:\n",
    "    s = f.read().split('\\n')\n",
    "\n",
    "plans = {row.split(':')[0]: row.split(':')[1].split(',') for row in s}\n",
    "\n",
    "track_map = \"\"\"\n",
    "S-=++=-==++=++=-=+=-=+=+=--=-=++=-==++=-+=-=+=-=+=+=++=-+==++=++=-=-=--\n",
    "-                                                                     -\n",
    "=                                                                     =\n",
    "+                                                                     +\n",
    "=                                                                     +\n",
    "+                                                                     =\n",
    "=                                                                     =\n",
    "-                                                                     -\n",
    "--==++++==+=+++-=+=-=+=-+-=+-=+-=+=-=+=--=+++=++=+++==++==--=+=++==+++-\n",
    "\"\"\"[1:-1].split('\\n')\n",
    "\n",
    "def transpose(m):\n",
    "    return [''.join([m[y][x] for y in range(len(m))]) for x in range(len(m[0]))]\n",
    "\n",
    "track_map_t = transpose(track_map)\n",
    "track = track_map[0][1:] + track_map_t[-1][1:] + track_map[-1][-2::-1] + track_map_t[0][-2::-1]\n",
    "\n",
    "def move_on_track(value, segment, track, plan):\n",
    "    act = track[segment % len(track)]\n",
    "    if act == '+':\n",
    "        return value+1\n",
    "    if act == '-':\n",
    "        return max(0, value-1)\n",
    "    return action(value, segment, plan)\n",
    "\n",
    "def run_for(plan, track, loops):\n",
    "    value = 10\n",
    "    essence = 0\n",
    "    for i in range(loops*len(track)):\n",
    "        value = move_on_track(value, i, track, plan)\n",
    "        essence += value\n",
    "    return essence\n",
    "\n",
    "plan_essences = {plan: run_for(plans[plan], track, 10) for plan in plans}\n",
    "''.join(sorted([plan for plan in plans], key=plan_essences.get, reverse=True))"
   ]
  },
  {
   "cell_type": "markdown",
   "id": "9033197b-86ff-4d7b-8f7f-6da26f98abc1",
   "metadata": {},
   "source": [
    "### Part 3"
   ]
  },
  {
   "cell_type": "code",
   "execution_count": 4,
   "id": "ed33170f-370e-46ea-9774-db5ad4f070df",
   "metadata": {},
   "outputs": [
    {
     "data": {
      "text/plain": [
       "4180"
      ]
     },
     "execution_count": 4,
     "metadata": {},
     "output_type": "execute_result"
    }
   ],
   "source": [
    "with open('inputs/everybody_codes_e2024_q07_p3.txt') as f:\n",
    "    s = f.read()\n",
    "\n",
    "track_map = \"\"\"\n",
    "S+= +=-== +=++=     =+=+=--=    =-= ++=     +=-  =+=++=-+==+ =++=-=-=--\n",
    "- + +   + =   =     =      =   == = - -     - =  =         =-=        -\n",
    "= + + +-- =-= ==-==-= --++ +  == == = +     - =  =    ==++=    =++=-=++\n",
    "+ + + =     +         =  + + == == ++ =     = =  ==   =   = =++=\n",
    "= = + + +== +==     =++ == =+=  =  +  +==-=++ =   =++ --= + =\n",
    "+ ==- = + =   = =+= =   =       ++--          +     =   = = =--= ==++==\n",
    "=     ==- ==+-- = = = ++= +=--      ==+ ==--= +--+=-= ==- ==   =+=    =\n",
    "-               = = = =   +  +  ==+ = = +   =        ++    =          -\n",
    "-               = + + =   +  -  = + = = +   =        +     =          -\n",
    "--==++++==+=+++-= =-= =-+-=  =+-= =-= =--   +=++=+++==     -=+=++==+++-\n",
    "\"\"\"[1:-1].split('\\n')\n",
    "\n",
    "def find_next(current, previous, m):\n",
    "    (x,y) = current\n",
    "    for c in [(x-1,y), (x+1,y), (x,y-1), (x,y+1)]:\n",
    "        if (c != previous) and (c[0] >= 0) and (c[1] >= 0) and (c[0] < len(m[c[1]])) and (c[1] < len(m)) and (m[c[1]][c[0]] != ' '):\n",
    "            return c\n",
    "\n",
    "previous = (0,0)\n",
    "current = (1,0)\n",
    "track = []\n",
    "while track_map[current[1]][current[0]] != 'S':\n",
    "    track.append(track_map[current[1]][current[0]])\n",
    "    nxt = find_next(current, previous, track_map)\n",
    "    previous = current\n",
    "    current = nxt\n",
    "track.append(track_map[current[1]][current[0]])\n",
    "\n",
    "enemy_plan = s.split(':')[1].split(',')\n",
    "loops = len(enemy_plan)\n",
    "enemy_essence = run_for(enemy_plan, track, loops)\n",
    "\n",
    "available_actions = {'+':5,'-':3,'=':3}\n",
    "\n",
    "def flatten(l):\n",
    "    if not isinstance(l,list):\n",
    "        return [l]\n",
    "    flat = []\n",
    "    for sl in l:\n",
    "        flat.extend(flatten(sl))\n",
    "    return flat\n",
    "\n",
    "def generate_plans(available, current_plan):\n",
    "    if len(current_plan) == 11:\n",
    "        return tuple(current_plan)\n",
    "    plans = []\n",
    "    for act in available:\n",
    "        if available[act] != 0:\n",
    "            av = {a:available[a]-1 if a == act else available[a] for a in available}\n",
    "            plans.append(generate_plans(av, current_plan + [act]))\n",
    "    return plans\n",
    "\n",
    "plans = set(flatten(generate_plans(available_actions, [])))\n",
    "essences = [run_for(plan, track, loops) for plan in plans]\n",
    "\n",
    "len([e for e in essences if e > enemy_essence])"
   ]
  }
 ],
 "metadata": {
  "kernelspec": {
   "display_name": "Python 3 (ipykernel)",
   "language": "python",
   "name": "python3"
  },
  "language_info": {
   "codemirror_mode": {
    "name": "ipython",
    "version": 3
   },
   "file_extension": ".py",
   "mimetype": "text/x-python",
   "name": "python",
   "nbconvert_exporter": "python",
   "pygments_lexer": "ipython3",
   "version": "3.12.7"
  }
 },
 "nbformat": 4,
 "nbformat_minor": 5
}
