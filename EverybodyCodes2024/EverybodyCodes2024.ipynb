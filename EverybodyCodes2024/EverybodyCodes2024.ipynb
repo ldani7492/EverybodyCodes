{
 "cells": [
  {
   "cell_type": "markdown",
   "id": "59753625-f33f-4d0e-9c39-a8a7e7c8f850",
   "metadata": {},
   "source": [
    "# Everybody Codes 2024"
   ]
  },
  {
   "cell_type": "markdown",
   "id": "e2f5f0f5-d441-4da6-b3d6-7f2eb5bf901f",
   "metadata": {},
   "source": [
    "## Quest 1"
   ]
  },
  {
   "cell_type": "markdown",
   "id": "a49e05bd-e97e-4e49-81a9-a1df4dc20bd7",
   "metadata": {},
   "source": [
    "### Part 1"
   ]
  },
  {
   "cell_type": "code",
   "execution_count": 12,
   "id": "cbe012e1-932f-49be-b035-299ec111b29e",
   "metadata": {},
   "outputs": [
    {
     "data": {
      "text/plain": [
       "1317"
      ]
     },
     "execution_count": 12,
     "metadata": {},
     "output_type": "execute_result"
    }
   ],
   "source": [
    "with open('inputs/everybody_codes_e2024_q01_p1.txt') as f:\n",
    "    s = f.read()\n",
    "\n",
    "potions = {'A': 0, 'B': 1, 'C': 3}\n",
    "\n",
    "sum([potions[c] for c in s])"
   ]
  },
  {
   "cell_type": "markdown",
   "id": "a6ed87b9-c498-4cbe-b541-455ae000d752",
   "metadata": {},
   "source": [
    "### Part 2"
   ]
  },
  {
   "cell_type": "code",
   "execution_count": 33,
   "id": "5b92c9dc-850f-495d-bb23-b5dcb37e8b54",
   "metadata": {},
   "outputs": [
    {
     "data": {
      "text/plain": [
       "5803"
      ]
     },
     "execution_count": 33,
     "metadata": {},
     "output_type": "execute_result"
    }
   ],
   "source": [
    "with open('inputs/everybody_codes_e2024_q01_p2.txt') as f:\n",
    "    s = f.read()\n",
    "\n",
    "potions = {'A': 0, 'B': 1, 'C': 3, 'D': 5}\n",
    "empty_extra = {0: 2, 1: 0, 2: 0}\n",
    "\n",
    "def potions_needed(p):\n",
    "    return sum([potions.get(c,0) for c in p]) + empty_extra[p.count('x')]\n",
    "\n",
    "sum([potions_needed(s[i:i+2]) for i in range(0,len(s),2)])"
   ]
  },
  {
   "cell_type": "markdown",
   "id": "3c2f3f02-1cb8-45f4-b328-9306051be646",
   "metadata": {},
   "source": [
    "### Part 3"
   ]
  },
  {
   "cell_type": "code",
   "execution_count": 34,
   "id": "ca5d6d1c-a85d-4c01-819a-63992e03e38d",
   "metadata": {},
   "outputs": [
    {
     "data": {
      "text/plain": [
       "27751"
      ]
     },
     "execution_count": 34,
     "metadata": {},
     "output_type": "execute_result"
    }
   ],
   "source": [
    "with open('inputs/everybody_codes_e2024_q01_p3.txt') as f:\n",
    "    s = f.read()\n",
    "\n",
    "empty_extra = {0: 6, 1: 2, 2: 0, 3:0}\n",
    "\n",
    "sum([pair_potions(s[i:i+3]) for i in range(0,len(s),3)])"
   ]
  }
 ],
 "metadata": {
  "kernelspec": {
   "display_name": "Python 3 (ipykernel)",
   "language": "python",
   "name": "python3"
  },
  "language_info": {
   "codemirror_mode": {
    "name": "ipython",
    "version": 3
   },
   "file_extension": ".py",
   "mimetype": "text/x-python",
   "name": "python",
   "nbconvert_exporter": "python",
   "pygments_lexer": "ipython3",
   "version": "3.12.7"
  }
 },
 "nbformat": 4,
 "nbformat_minor": 5
}
