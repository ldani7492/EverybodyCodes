{
 "cells": [
  {
   "cell_type": "markdown",
   "id": "59753625-f33f-4d0e-9c39-a8a7e7c8f850",
   "metadata": {},
   "source": [
    "# Everybody Codes 2024"
   ]
  },
  {
   "cell_type": "markdown",
   "id": "e2f5f0f5-d441-4da6-b3d6-7f2eb5bf901f",
   "metadata": {},
   "source": [
    "## Quest 1"
   ]
  },
  {
   "cell_type": "markdown",
   "id": "a49e05bd-e97e-4e49-81a9-a1df4dc20bd7",
   "metadata": {},
   "source": [
    "### Part 1"
   ]
  },
  {
   "cell_type": "code",
   "execution_count": 12,
   "id": "cbe012e1-932f-49be-b035-299ec111b29e",
   "metadata": {},
   "outputs": [
    {
     "data": {
      "text/plain": [
       "1317"
      ]
     },
     "execution_count": 12,
     "metadata": {},
     "output_type": "execute_result"
    }
   ],
   "source": [
    "with open('inputs/everybody_codes_e2024_q01_p1.txt') as f:\n",
    "    s = f.read()\n",
    "\n",
    "potions = {'A': 0, 'B': 1, 'C': 3}\n",
    "\n",
    "sum([potions[c] for c in s])"
   ]
  },
  {
   "cell_type": "markdown",
   "id": "a6ed87b9-c498-4cbe-b541-455ae000d752",
   "metadata": {},
   "source": [
    "### Part 2"
   ]
  },
  {
   "cell_type": "code",
   "execution_count": 33,
   "id": "5b92c9dc-850f-495d-bb23-b5dcb37e8b54",
   "metadata": {},
   "outputs": [
    {
     "data": {
      "text/plain": [
       "5803"
      ]
     },
     "execution_count": 33,
     "metadata": {},
     "output_type": "execute_result"
    }
   ],
   "source": [
    "with open('inputs/everybody_codes_e2024_q01_p2.txt') as f:\n",
    "    s = f.read()\n",
    "\n",
    "potions = {'A': 0, 'B': 1, 'C': 3, 'D': 5}\n",
    "empty_extra = {0: 2, 1: 0, 2: 0}\n",
    "\n",
    "def potions_needed(p):\n",
    "    return sum([potions.get(c,0) for c in p]) + empty_extra[p.count('x')]\n",
    "\n",
    "sum([potions_needed(s[i:i+2]) for i in range(0,len(s),2)])"
   ]
  },
  {
   "cell_type": "markdown",
   "id": "3c2f3f02-1cb8-45f4-b328-9306051be646",
   "metadata": {},
   "source": [
    "### Part 3"
   ]
  },
  {
   "cell_type": "code",
   "execution_count": 34,
   "id": "ca5d6d1c-a85d-4c01-819a-63992e03e38d",
   "metadata": {},
   "outputs": [
    {
     "data": {
      "text/plain": [
       "27751"
      ]
     },
     "execution_count": 34,
     "metadata": {},
     "output_type": "execute_result"
    }
   ],
   "source": [
    "with open('inputs/everybody_codes_e2024_q01_p3.txt') as f:\n",
    "    s = f.read()\n",
    "\n",
    "empty_extra = {0: 6, 1: 2, 2: 0, 3:0}\n",
    "\n",
    "sum([pair_potions(s[i:i+3]) for i in range(0,len(s),3)])"
   ]
  },
  {
   "cell_type": "markdown",
   "id": "d63f33cb-c486-462e-8b1e-838917fc0f99",
   "metadata": {},
   "source": [
    "## Quest 2"
   ]
  },
  {
   "cell_type": "markdown",
   "id": "fbbced86-1b33-4e76-9325-e2dc28b0b337",
   "metadata": {},
   "source": [
    "### Part 1"
   ]
  },
  {
   "cell_type": "code",
   "execution_count": 42,
   "id": "c41bf598-6740-4f92-815f-6b4881a00c11",
   "metadata": {},
   "outputs": [
    {
     "data": {
      "text/plain": [
       "32"
      ]
     },
     "execution_count": 42,
     "metadata": {},
     "output_type": "execute_result"
    }
   ],
   "source": [
    "with open('inputs/everybody_codes_e2024_q02_p1.txt') as f:\n",
    "    s = f.read().split('\\n\\n')\n",
    "\n",
    "words = s[0].split(':')[1].split(',')\n",
    "inscription = s[1]\n",
    "\n",
    "sum([inscription.count(w) for w in words])"
   ]
  },
  {
   "cell_type": "markdown",
   "id": "845ad3d4-fd3a-415c-a7da-5d02f7829f3f",
   "metadata": {},
   "source": [
    "## Part 2"
   ]
  },
  {
   "cell_type": "code",
   "execution_count": 85,
   "id": "f623989b-c089-483b-9d2e-e08a054d98ee",
   "metadata": {},
   "outputs": [
    {
     "data": {
      "text/plain": [
       "5341"
      ]
     },
     "execution_count": 85,
     "metadata": {},
     "output_type": "execute_result"
    }
   ],
   "source": [
    "with open('inputs/everybody_codes_e2024_q02_p2.txt') as f:\n",
    "    s = f.read().split('\\n\\n')\n",
    "\n",
    "words = s[0].split(':')[1].split(',')\n",
    "words = set(words + [w[::-1] for w in words])\n",
    "inscriptions = s[1].split('\\n')\n",
    "\n",
    "def symbols_for_word(insc, word):\n",
    "    l = len(word)\n",
    "    symbols = [list(range(i,i+l)) for i in range(len(insc)-l+1) if insc[i:i+l] == word]\n",
    "    return {sym for w in symbols for sym in w}\n",
    "\n",
    "def symbol_count(insc, words):\n",
    "    symbols = [symbols_for_word(insc, word) for word in words]\n",
    "    return len({sym for w in symbols for sym in w})\n",
    "\n",
    "sum([symbol_count(insc, words) for insc in inscriptions])"
   ]
  },
  {
   "cell_type": "markdown",
   "id": "341e8f55-2bb8-4ca1-85f5-96c18b47dbd7",
   "metadata": {},
   "source": [
    "### Part 3"
   ]
  },
  {
   "cell_type": "code",
   "execution_count": 136,
   "id": "96f1a070-d493-4f71-9a90-d1e2d2e38234",
   "metadata": {},
   "outputs": [
    {
     "data": {
      "text/plain": [
       "11677"
      ]
     },
     "execution_count": 136,
     "metadata": {},
     "output_type": "execute_result"
    }
   ],
   "source": [
    "with open('inputs/everybody_codes_e2024_q02_p3.txt') as f:\n",
    "    s = f.read().split('\\n\\n')\n",
    "\n",
    "words = s[0].split(':')[1].split(',')\n",
    "words = set(words + [w[::-1] for w in words])\n",
    "inscriptions = s[1].split('\\n')\n",
    "\n",
    "def get_word(insc, start, l):\n",
    "    if start+l <= len(insc):\n",
    "        return insc[start:start+l]\n",
    "    return insc[start:start+l] + insc[0:start+l-len(insc)]\n",
    "\n",
    "def symbols_for_word_wrap(insc, word):\n",
    "    l = len(word)\n",
    "    symbols = [list(range(i, i+l)) for i in range(len(insc)) if get_word(insc, i, l) == word]\n",
    "    return {(sym%len(insc)) for w in symbols for sym in w}\n",
    "\n",
    "def symbols_for_word(insc, word):\n",
    "    l = len(word)\n",
    "    symbols = [list(range(i,i+l)) for i in range(len(insc)-l+1) if insc[i:i+l] == word]\n",
    "    return {sym for w in symbols for sym in w}\n",
    "\n",
    "def symbols_in_inscription_wrap(insc):\n",
    "    symbols = [symbols_for_word_wrap(insc, word) for word in words]\n",
    "    return {sym for w in symbols for sym in w}\n",
    "\n",
    "def symbols_in_inscription(insc):\n",
    "    symbols = [symbols_for_word(insc, word) for word in words]\n",
    "    return {sym for w in symbols for sym in w}\n",
    "\n",
    "def symbols_h():\n",
    "    return {(x,y) for y, insc in enumerate(inscriptions) for x in symbols_in_inscription_wrap(insc)}\n",
    "\n",
    "def transpose(m):\n",
    "    return [''.join([m[y][x] for y in range(len(m))]) for x in range(len(m[0])) ]\n",
    "\n",
    "def symbols_v():\n",
    "    inscriptions_t = transpose(inscriptions)\n",
    "    return {(x,y) for x, insc in enumerate(inscriptions_t) for y in symbols_in_inscription(insc)}\n",
    "\n",
    "def symbols():\n",
    "    return {sym for w in [symbols_h(), symbols_v()] for sym in w}\n",
    "\n",
    "len(symbols())"
   ]
  },
  {
   "cell_type": "markdown",
   "id": "6bb03997-426b-489b-9b9a-deb202469d64",
   "metadata": {},
   "source": [
    "## Quest 3"
   ]
  },
  {
   "cell_type": "markdown",
   "id": "9207af71-68c8-4828-b2ae-fac557450c43",
   "metadata": {},
   "source": [
    "### Part 1"
   ]
  },
  {
   "cell_type": "code",
   "execution_count": 149,
   "id": "e5b47b06-ba2e-4d2b-bced-8669d55b4dc4",
   "metadata": {},
   "outputs": [
    {
     "data": {
      "text/plain": [
       "132"
      ]
     },
     "execution_count": 149,
     "metadata": {},
     "output_type": "execute_result"
    }
   ],
   "source": [
    "with open('inputs/everybody_codes_e2024_q03_p1.txt') as f:\n",
    "    s = f.read().split('\\n')\n",
    "\n",
    "def init(s):\n",
    "    return [(x,y) for y,row in enumerate(s) for x,c in enumerate(row) if c == '#']\n",
    "\n",
    "def is_edge(diggable,x,y):\n",
    "    return not ((x,y) in diggable and (x-1,y) in diggable and (x+1,y) in diggable and (x,y-1) in diggable and (x,y+1) in diggable)\n",
    "\n",
    "def dig(diggable, extracted):\n",
    "    if len(diggable) == 0:\n",
    "        return extracted\n",
    "    next_layer = [(x,y) for (x,y) in diggable if not is_edge(diggable,x,y)]\n",
    "    return dig(next_layer, extracted+len(diggable))\n",
    "\n",
    "dig(init(s), 0)"
   ]
  },
  {
   "cell_type": "markdown",
   "id": "be0e9ccd-e2ab-447d-910d-61a143026fb2",
   "metadata": {},
   "source": [
    "### Part 2"
   ]
  },
  {
   "cell_type": "code",
   "execution_count": 150,
   "id": "13042c3e-cefa-46d2-a532-008d145b8bd9",
   "metadata": {},
   "outputs": [
    {
     "data": {
      "text/plain": [
       "2685"
      ]
     },
     "execution_count": 150,
     "metadata": {},
     "output_type": "execute_result"
    }
   ],
   "source": [
    "with open('inputs/everybody_codes_e2024_q03_p2.txt') as f:\n",
    "    s = f.read().split('\\n')\n",
    "\n",
    "dig(init(s), 0)"
   ]
  },
  {
   "cell_type": "markdown",
   "id": "96469101-066e-47ff-999b-6b087b2eb39a",
   "metadata": {},
   "source": [
    "### Part 3"
   ]
  },
  {
   "cell_type": "code",
   "execution_count": 152,
   "id": "8d53944d-89ad-43fa-9671-667afb6e5a8d",
   "metadata": {},
   "outputs": [
    {
     "data": {
      "text/plain": [
       "[(-1, -1), (-1, 0), (-1, 1), (0, -1), (0, 0), (0, 1), (1, -1), (1, 0), (1, 1)]"
      ]
     },
     "execution_count": 152,
     "metadata": {},
     "output_type": "execute_result"
    }
   ],
   "source": [
    "with open('inputs/everybody_codes_e2024_q03_p3.txt') as f:\n",
    "    s = f.read().split('\\n')\n",
    "\n",
    "def is_edge(diggable,x,y):\n",
    "    d = [(x,y) for x in range(-1,2) for y in range(-1,2)]\n",
    "    coords = \n",
    "    return not ((x,y) in diggable and (x-1,y) in diggable and (x+1,y) in diggable and (x,y-1) in diggable and (x,y+1) in diggable)\n",
    "\n",
    "def dig(diggable, extracted):\n",
    "    if len(diggable) == 0:\n",
    "        return extracted\n",
    "    next_layer = [(x,y) for (x,y) in diggable if not is_edge(diggable,x,y)]\n",
    "    return dig(next_layer, extracted+len(diggable))\n",
    "\n",
    "#dig(init(s), 0)\n",
    "\n",
    "d = [(x,y) for x in range(-1,2) for y in range(-1,2)]\n",
    "d"
   ]
  }
 ],
 "metadata": {
  "kernelspec": {
   "display_name": "Python 3 (ipykernel)",
   "language": "python",
   "name": "python3"
  },
  "language_info": {
   "codemirror_mode": {
    "name": "ipython",
    "version": 3
   },
   "file_extension": ".py",
   "mimetype": "text/x-python",
   "name": "python",
   "nbconvert_exporter": "python",
   "pygments_lexer": "ipython3",
   "version": "3.12.7"
  }
 },
 "nbformat": 4,
 "nbformat_minor": 5
}
