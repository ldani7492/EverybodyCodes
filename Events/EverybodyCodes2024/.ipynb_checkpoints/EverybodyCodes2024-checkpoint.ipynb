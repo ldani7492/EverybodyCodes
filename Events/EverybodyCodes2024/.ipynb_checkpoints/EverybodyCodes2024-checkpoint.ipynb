{
 "cells": [
  {
   "cell_type": "markdown",
   "id": "59753625-f33f-4d0e-9c39-a8a7e7c8f850",
   "metadata": {},
   "source": [
    "# Everybody Codes 2024"
   ]
  },
  {
   "cell_type": "markdown",
   "id": "e2f5f0f5-d441-4da6-b3d6-7f2eb5bf901f",
   "metadata": {},
   "source": [
    "## Quest 1"
   ]
  },
  {
   "cell_type": "markdown",
   "id": "a49e05bd-e97e-4e49-81a9-a1df4dc20bd7",
   "metadata": {},
   "source": [
    "### Part 1"
   ]
  },
  {
   "cell_type": "code",
   "execution_count": 12,
   "id": "cbe012e1-932f-49be-b035-299ec111b29e",
   "metadata": {},
   "outputs": [
    {
     "data": {
      "text/plain": [
       "1317"
      ]
     },
     "execution_count": 12,
     "metadata": {},
     "output_type": "execute_result"
    }
   ],
   "source": [
    "with open('inputs/everybody_codes_e2024_q01_p1.txt') as f:\n",
    "    s = f.read()\n",
    "\n",
    "potions = {'A': 0, 'B': 1, 'C': 3}\n",
    "\n",
    "sum([potions[c] for c in s])"
   ]
  },
  {
   "cell_type": "markdown",
   "id": "a6ed87b9-c498-4cbe-b541-455ae000d752",
   "metadata": {},
   "source": [
    "### Part 2"
   ]
  },
  {
   "cell_type": "code",
   "execution_count": 33,
   "id": "5b92c9dc-850f-495d-bb23-b5dcb37e8b54",
   "metadata": {},
   "outputs": [
    {
     "data": {
      "text/plain": [
       "5803"
      ]
     },
     "execution_count": 33,
     "metadata": {},
     "output_type": "execute_result"
    }
   ],
   "source": [
    "with open('inputs/everybody_codes_e2024_q01_p2.txt') as f:\n",
    "    s = f.read()\n",
    "\n",
    "potions = {'A': 0, 'B': 1, 'C': 3, 'D': 5}\n",
    "empty_extra = {0: 2, 1: 0, 2: 0}\n",
    "\n",
    "def potions_needed(p):\n",
    "    return sum([potions.get(c,0) for c in p]) + empty_extra[p.count('x')]\n",
    "\n",
    "sum([potions_needed(s[i:i+2]) for i in range(0,len(s),2)])"
   ]
  },
  {
   "cell_type": "markdown",
   "id": "3c2f3f02-1cb8-45f4-b328-9306051be646",
   "metadata": {},
   "source": [
    "### Part 3"
   ]
  },
  {
   "cell_type": "code",
   "execution_count": 34,
   "id": "ca5d6d1c-a85d-4c01-819a-63992e03e38d",
   "metadata": {},
   "outputs": [
    {
     "data": {
      "text/plain": [
       "27751"
      ]
     },
     "execution_count": 34,
     "metadata": {},
     "output_type": "execute_result"
    }
   ],
   "source": [
    "with open('inputs/everybody_codes_e2024_q01_p3.txt') as f:\n",
    "    s = f.read()\n",
    "\n",
    "empty_extra = {0: 6, 1: 2, 2: 0, 3:0}\n",
    "\n",
    "sum([pair_potions(s[i:i+3]) for i in range(0,len(s),3)])"
   ]
  },
  {
   "cell_type": "markdown",
   "id": "d63f33cb-c486-462e-8b1e-838917fc0f99",
   "metadata": {},
   "source": [
    "## Quest 2"
   ]
  },
  {
   "cell_type": "markdown",
   "id": "fbbced86-1b33-4e76-9325-e2dc28b0b337",
   "metadata": {},
   "source": [
    "### Part 1"
   ]
  },
  {
   "cell_type": "code",
   "execution_count": 42,
   "id": "c41bf598-6740-4f92-815f-6b4881a00c11",
   "metadata": {},
   "outputs": [
    {
     "data": {
      "text/plain": [
       "32"
      ]
     },
     "execution_count": 42,
     "metadata": {},
     "output_type": "execute_result"
    }
   ],
   "source": [
    "with open('inputs/everybody_codes_e2024_q02_p1.txt') as f:\n",
    "    s = f.read().split('\\n\\n')\n",
    "\n",
    "words = s[0].split(':')[1].split(',')\n",
    "inscription = s[1]\n",
    "\n",
    "sum([inscription.count(w) for w in words])"
   ]
  },
  {
   "cell_type": "markdown",
   "id": "845ad3d4-fd3a-415c-a7da-5d02f7829f3f",
   "metadata": {},
   "source": [
    "## Part 2"
   ]
  },
  {
   "cell_type": "code",
   "execution_count": 85,
   "id": "f623989b-c089-483b-9d2e-e08a054d98ee",
   "metadata": {},
   "outputs": [
    {
     "data": {
      "text/plain": [
       "5341"
      ]
     },
     "execution_count": 85,
     "metadata": {},
     "output_type": "execute_result"
    }
   ],
   "source": [
    "with open('inputs/everybody_codes_e2024_q02_p2.txt') as f:\n",
    "    s = f.read().split('\\n\\n')\n",
    "\n",
    "words = s[0].split(':')[1].split(',')\n",
    "words = set(words + [w[::-1] for w in words])\n",
    "inscriptions = s[1].split('\\n')\n",
    "\n",
    "def symbols_for_word(insc, word):\n",
    "    l = len(word)\n",
    "    symbols = [list(range(i,i+l)) for i in range(len(insc)-l+1) if insc[i:i+l] == word]\n",
    "    return {sym for w in symbols for sym in w}\n",
    "\n",
    "def symbol_count(insc, words):\n",
    "    symbols = [symbols_for_word(insc, word) for word in words]\n",
    "    return len({sym for w in symbols for sym in w})\n",
    "\n",
    "sum([symbol_count(insc, words) for insc in inscriptions])"
   ]
  },
  {
   "cell_type": "markdown",
   "id": "341e8f55-2bb8-4ca1-85f5-96c18b47dbd7",
   "metadata": {},
   "source": [
    "### Part 3"
   ]
  },
  {
   "cell_type": "code",
   "execution_count": 146,
   "id": "96f1a070-d493-4f71-9a90-d1e2d2e38234",
   "metadata": {},
   "outputs": [
    {
     "data": {
      "text/plain": [
       "11677"
      ]
     },
     "execution_count": 146,
     "metadata": {},
     "output_type": "execute_result"
    }
   ],
   "source": [
    "with open('inputs/everybody_codes_e2024_q02_p3.txt') as f:\n",
    "    s = f.read().split('\\n\\n')\n",
    "\n",
    "words = s[0].split(':')[1].split(',')\n",
    "words = set(words + [w[::-1] for w in words])\n",
    "inscriptions = s[1].split('\\n')\n",
    "\n",
    "def get_word(insc, start, l):\n",
    "    if start+l <= len(insc):\n",
    "        return insc[start:start+l]\n",
    "    return insc[start:start+l] + insc[0:start+l-len(insc)]\n",
    "\n",
    "def symbols_for_word_wrap(insc, word):\n",
    "    l = len(word)\n",
    "    symbols = [list(range(i, i+l)) for i in range(len(insc)) if get_word(insc, i, l) == word]\n",
    "    return {(sym%len(insc)) for w in symbols for sym in w}\n",
    "\n",
    "def symbols_for_word(insc, word):\n",
    "    l = len(word)\n",
    "    symbols = [list(range(i,i+l)) for i in range(len(insc)-l+1) if insc[i:i+l] == word]\n",
    "    return {sym for w in symbols for sym in w}\n",
    "\n",
    "def symbols_in_inscription_wrap(insc):\n",
    "    symbols = [symbols_for_word_wrap(insc, word) for word in words]\n",
    "    return {sym for w in symbols for sym in w}\n",
    "\n",
    "def symbols_in_inscription(insc):\n",
    "    symbols = [symbols_for_word(insc, word) for word in words]\n",
    "    return {sym for w in symbols for sym in w}\n",
    "\n",
    "def symbols_h():\n",
    "    return {(x,y) for y, insc in enumerate(inscriptions) for x in symbols_in_inscription_wrap(insc)}\n",
    "\n",
    "def transpose(m):\n",
    "    return [''.join([m[y][x] for y in range(len(m))]) for x in range(len(m[0]))]\n",
    "\n",
    "def symbols_v():\n",
    "    inscriptions_t = transpose(inscriptions)\n",
    "    return {(x,y) for x, insc in enumerate(inscriptions_t) for y in symbols_in_inscription(insc)}\n",
    "\n",
    "def symbols():\n",
    "    return {sym for w in [symbols_h(), symbols_v()] for sym in w}\n",
    "\n",
    "len(symbols())"
   ]
  },
  {
   "cell_type": "markdown",
   "id": "6bb03997-426b-489b-9b9a-deb202469d64",
   "metadata": {},
   "source": [
    "## Quest 3"
   ]
  },
  {
   "cell_type": "markdown",
   "id": "9207af71-68c8-4828-b2ae-fac557450c43",
   "metadata": {},
   "source": [
    "### Part 1"
   ]
  },
  {
   "cell_type": "code",
   "execution_count": 149,
   "id": "e5b47b06-ba2e-4d2b-bced-8669d55b4dc4",
   "metadata": {},
   "outputs": [
    {
     "data": {
      "text/plain": [
       "132"
      ]
     },
     "execution_count": 149,
     "metadata": {},
     "output_type": "execute_result"
    }
   ],
   "source": [
    "with open('inputs/everybody_codes_e2024_q03_p1.txt') as f:\n",
    "    s = f.read().split('\\n')\n",
    "\n",
    "def init(s):\n",
    "    return [(x,y) for y,row in enumerate(s) for x,c in enumerate(row) if c == '#']\n",
    "\n",
    "def is_edge(diggable,x,y):\n",
    "    return not ((x,y) in diggable and (x-1,y) in diggable and (x+1,y) in diggable and (x,y-1) in diggable and (x,y+1) in diggable)\n",
    "\n",
    "def dig(diggable, extracted):\n",
    "    if len(diggable) == 0:\n",
    "        return extracted\n",
    "    next_layer = [(x,y) for (x,y) in diggable if not is_edge(diggable,x,y)]\n",
    "    return dig(next_layer, extracted+len(diggable))\n",
    "\n",
    "dig(init(s), 0)"
   ]
  },
  {
   "cell_type": "markdown",
   "id": "be0e9ccd-e2ab-447d-910d-61a143026fb2",
   "metadata": {},
   "source": [
    "### Part 2"
   ]
  },
  {
   "cell_type": "code",
   "execution_count": 150,
   "id": "13042c3e-cefa-46d2-a532-008d145b8bd9",
   "metadata": {},
   "outputs": [
    {
     "data": {
      "text/plain": [
       "2685"
      ]
     },
     "execution_count": 150,
     "metadata": {},
     "output_type": "execute_result"
    }
   ],
   "source": [
    "with open('inputs/everybody_codes_e2024_q03_p2.txt') as f:\n",
    "    s = f.read().split('\\n')\n",
    "\n",
    "dig(init(s), 0)"
   ]
  },
  {
   "cell_type": "markdown",
   "id": "96469101-066e-47ff-999b-6b087b2eb39a",
   "metadata": {},
   "source": [
    "### Part 3"
   ]
  },
  {
   "cell_type": "code",
   "execution_count": 155,
   "id": "8d53944d-89ad-43fa-9671-667afb6e5a8d",
   "metadata": {},
   "outputs": [
    {
     "data": {
      "text/plain": [
       "10153"
      ]
     },
     "execution_count": 155,
     "metadata": {},
     "output_type": "execute_result"
    }
   ],
   "source": [
    "with open('inputs/everybody_codes_e2024_q03_p3.txt') as f:\n",
    "    s = f.read().split('\\n')\n",
    "\n",
    "def is_edge(diggable,x,y):\n",
    "    d = [(x,y) for x in range(-1,2) for y in range(-1,2)]\n",
    "    coords = [(x+xd,y+yd) for (xd,yd) in d if (x+xd,y+yd) in diggable]\n",
    "    return len(coords) != len(d)\n",
    "\n",
    "def dig(diggable, extracted):\n",
    "    if len(diggable) == 0:\n",
    "        return extracted\n",
    "    next_layer = [(x,y) for (x,y) in diggable if not is_edge(diggable,x,y)]\n",
    "    return dig(next_layer, extracted+len(diggable))\n",
    "\n",
    "dig(init(s), 0)"
   ]
  },
  {
   "cell_type": "markdown",
   "id": "94319302-1311-448b-8ce8-7ebe3081390d",
   "metadata": {},
   "source": [
    "## Quest 4"
   ]
  },
  {
   "cell_type": "markdown",
   "id": "210f63e6-30f7-40b7-81bb-bc6dd43a350b",
   "metadata": {},
   "source": [
    "### Part 1"
   ]
  },
  {
   "cell_type": "code",
   "execution_count": 160,
   "id": "23176449-700d-4d42-a931-fd5dc478acef",
   "metadata": {},
   "outputs": [
    {
     "data": {
      "text/plain": [
       "67"
      ]
     },
     "execution_count": 160,
     "metadata": {},
     "output_type": "execute_result"
    }
   ],
   "source": [
    "with open('inputs/everybody_codes_e2024_q04_p1.txt') as f:\n",
    "    s = f.read().split('\\n')\n",
    "\n",
    "nails = [int(n) for n in s]\n",
    "min_n = min(nails)\n",
    "sum([n-min_n for n in nails])"
   ]
  },
  {
   "cell_type": "markdown",
   "id": "897957f7-58de-46e2-839e-c54681d92b75",
   "metadata": {},
   "source": [
    "### Part 2"
   ]
  },
  {
   "cell_type": "code",
   "execution_count": 161,
   "id": "f056c4b4-18ec-492e-9e80-ce8630ee3280",
   "metadata": {},
   "outputs": [
    {
     "data": {
      "text/plain": [
       "907911"
      ]
     },
     "execution_count": 161,
     "metadata": {},
     "output_type": "execute_result"
    }
   ],
   "source": [
    "with open('inputs/everybody_codes_e2024_q04_p2.txt') as f:\n",
    "    s = f.read().split('\\n')\n",
    "\n",
    "nails = [int(n) for n in s]\n",
    "min_n = min(nails)\n",
    "sum([n-min_n for n in nails])"
   ]
  },
  {
   "cell_type": "markdown",
   "id": "e638d037-c4bb-41aa-a785-167382d0dd67",
   "metadata": {},
   "source": [
    "### Part 3"
   ]
  },
  {
   "cell_type": "code",
   "execution_count": 165,
   "id": "06ba978d-38e0-4712-a11e-90d81f0643d3",
   "metadata": {},
   "outputs": [
    {
     "data": {
      "text/plain": [
       "127457778"
      ]
     },
     "execution_count": 165,
     "metadata": {},
     "output_type": "execute_result"
    }
   ],
   "source": [
    "with open('inputs/everybody_codes_e2024_q04_p3.txt') as f:\n",
    "    s = f.read().split('\\n')\n",
    "\n",
    "nails = [int(n) for n in s]\n",
    "\n",
    "def adjust_to(nails,h):\n",
    "    return sum([abs(n-h) for n in nails])\n",
    "\n",
    "min([adjust_to(nails,h) for h in nails])"
   ]
  },
  {
   "cell_type": "markdown",
   "id": "80d051ae-e5f0-4c12-8948-eac37d7a803e",
   "metadata": {},
   "source": [
    "## Quest 5"
   ]
  },
  {
   "cell_type": "markdown",
   "id": "ee9428e4-e7c8-4fee-8535-1455dbd81560",
   "metadata": {},
   "source": [
    "### Part 1"
   ]
  },
  {
   "cell_type": "code",
   "execution_count": 18,
   "id": "41e71975-f893-435f-a1ff-7a11fcc9924b",
   "metadata": {},
   "outputs": [
    {
     "data": {
      "text/plain": [
       "2235"
      ]
     },
     "execution_count": 18,
     "metadata": {},
     "output_type": "execute_result"
    }
   ],
   "source": [
    "with open('inputs/everybody_codes_e2024_q05_p1.txt') as f:\n",
    "    s = f.read().split('\\n')\n",
    "\n",
    "rows = [[int(c) for c in row.split(' ')] for row in s]\n",
    "cols = [[rows[y][x] for y in range(len(rows))] for x in range(len(rows[0]))]\n",
    "\n",
    "def absorb_at(n,l):\n",
    "    return l-abs((n-1)%(l*2)-l)\n",
    "    \n",
    "def move(cols, c):\n",
    "    n = cols[c][0]\n",
    "    next_col_idx = (c+1) % len(cols)\n",
    "    cols[c] = cols[c][1:]\n",
    "    move_to = absorb_at(n,len(cols[next_col_idx]))\n",
    "    cols[next_col_idx] = cols[next_col_idx][:move_to] + [n] + cols[next_col_idx][move_to:]\n",
    "    return cols\n",
    "\n",
    "def result(cols):\n",
    "    return int(''.join([str(c[0]) for c in cols]))\n",
    "\n",
    "for i in range(10):\n",
    "    cols = move(cols, i%len(cols))\n",
    "\n",
    "result(cols)"
   ]
  },
  {
   "cell_type": "markdown",
   "id": "3340f25a-edfe-4e52-b67a-a42c52a927a7",
   "metadata": {},
   "source": [
    "### Part 2"
   ]
  },
  {
   "cell_type": "code",
   "execution_count": 35,
   "id": "815a2886-3597-4f60-8217-9e66b9bfa5e9",
   "metadata": {},
   "outputs": [
    {
     "data": {
      "text/plain": [
       "17005087678734"
      ]
     },
     "execution_count": 35,
     "metadata": {},
     "output_type": "execute_result"
    }
   ],
   "source": [
    "with open('inputs/everybody_codes_e2024_q05_p2.txt') as f:\n",
    "    s = f.read().split('\\n')\n",
    "\n",
    "rows = [[int(c) for c in row.split(' ')] for row in s]\n",
    "cols = [[rows[y][x] for y in range(len(rows))] for x in range(len(rows[0]))]\n",
    "\n",
    "result_count = dict()\n",
    "last_count = 0\n",
    "round_count = 0\n",
    "while last_count < 2024:\n",
    "    cols = move(cols, round_count % len(cols))\n",
    "    res = result(cols)\n",
    "    last_count = result_count.get(res,0)+1\n",
    "    result_count[res] = last_count\n",
    "    round_count += 1\n",
    "\n",
    "round_count*res"
   ]
  },
  {
   "cell_type": "markdown",
   "id": "a6fecf7a-67a4-4fcd-a4a4-7fe3641261eb",
   "metadata": {},
   "source": [
    "### Part 3"
   ]
  },
  {
   "cell_type": "code",
   "execution_count": 39,
   "id": "9da487a1-3c7d-4d0f-ae18-6c5b795c2822",
   "metadata": {},
   "outputs": [
    {
     "data": {
      "text/plain": [
       "5491100510091000"
      ]
     },
     "execution_count": 39,
     "metadata": {},
     "output_type": "execute_result"
    }
   ],
   "source": [
    "with open('inputs/everybody_codes_e2024_q05_p3.txt') as f:\n",
    "    s = f.read().split('\\n')\n",
    "\n",
    "rows = [[int(c) for c in row.split(' ')] for row in s]\n",
    "cols = [[rows[y][x] for y in range(len(rows))] for x in range(len(rows[0]))]\n",
    "\n",
    "def to_state(cols, round_number):\n",
    "    next_col = round_number % len(cols)\n",
    "    return (tuple(tuple(col) for col in cols),next_col)\n",
    "\n",
    "states = dict()\n",
    "round_number = 0\n",
    "current_state = to_state(cols, round_number)\n",
    "\n",
    "while current_state not in states:\n",
    "    states[current_state] = result(cols)\n",
    "    cols = move(cols, round_number%len(cols))\n",
    "    round_number += 1\n",
    "    current_state = to_state(cols, round_number)\n",
    "\n",
    "max(states.values())"
   ]
  },
  {
   "cell_type": "markdown",
   "id": "248fd358-8594-47b1-b257-9c185aa4cadf",
   "metadata": {},
   "source": [
    "## Quest 6"
   ]
  },
  {
   "cell_type": "markdown",
   "id": "ed5bda6a-21cf-4ad8-a6fc-827eab9c5856",
   "metadata": {},
   "source": [
    "### Part 1"
   ]
  },
  {
   "cell_type": "code",
   "execution_count": 124,
   "id": "0bb9aee1-7918-48fa-b01f-d76d98058cbe",
   "metadata": {},
   "outputs": [
    {
     "data": {
      "text/plain": [
       "'RRHCZGCVCNRV@'"
      ]
     },
     "execution_count": 124,
     "metadata": {},
     "output_type": "execute_result"
    }
   ],
   "source": [
    "with open('inputs/everybody_codes_e2024_q06_p1.txt') as f:\n",
    "    s = f.read().split('\\n')\n",
    "\n",
    "branches = {row.split(':')[0]: row.split(':')[1].split(',') for row in s}\n",
    "\n",
    "def flatten(l):\n",
    "    if not isinstance(l,list):\n",
    "        return [l]\n",
    "    flat = []\n",
    "    for sl in l:\n",
    "        flat.extend(flatten(sl))\n",
    "    return flat\n",
    "\n",
    "def traverse(current, path):\n",
    "    new_path = path + [current]\n",
    "    if current == '@':\n",
    "        return tuple(new_path)\n",
    "    if current not in branches or current == 'BUG' or current == 'ANT':\n",
    "        return\n",
    "    results = [traverse(branch, new_path) for branch in branches[current]]\n",
    "    results = [br for br in results if br is not None and len(br) != 0]\n",
    "    return results\n",
    "\n",
    "def find_strongest(branches):\n",
    "    apples = flatten(traverse('RR', []))\n",
    "    lengths = {a: len(a) for a in apples}\n",
    "    length_count = {v: list(lengths.values()).count(v) for v in lengths.values()}\n",
    "    unique_lengths = {l:lengths[l] for l in lengths if length_count[lengths[l]] == 1}\n",
    "    return min(unique_lengths, key=unique_lengths.get)\n",
    "\n",
    "strongest = find_strongest(branches)\n",
    "''.join(strongest)"
   ]
  },
  {
   "cell_type": "markdown",
   "id": "18a668fa-5aa5-4162-92e2-4e820f933992",
   "metadata": {},
   "source": [
    "### Part 2"
   ]
  },
  {
   "cell_type": "code",
   "execution_count": 125,
   "id": "da40c112-bf24-4b5f-8d4c-a5725c6eee0d",
   "metadata": {},
   "outputs": [
    {
     "data": {
      "text/plain": [
       "'RZBZFSCKCX@'"
      ]
     },
     "execution_count": 125,
     "metadata": {},
     "output_type": "execute_result"
    }
   ],
   "source": [
    "with open('inputs/everybody_codes_e2024_q06_p2.txt') as f:\n",
    "    s = f.read().split('\\n')\n",
    "\n",
    "branches = {row.split(':')[0]: row.split(':')[1].split(',') for row in s}\n",
    "\n",
    "strongest = find_strongest(branches)\n",
    "''.join([c[0] for c in strongest])"
   ]
  },
  {
   "cell_type": "markdown",
   "id": "a0d6b64a-33d8-4123-8306-05e98ae163a2",
   "metadata": {},
   "source": [
    "### Part 3"
   ]
  },
  {
   "cell_type": "code",
   "execution_count": 126,
   "id": "32d34f47-0092-4abb-a9ef-26a28f7db28d",
   "metadata": {},
   "outputs": [
    {
     "data": {
      "text/plain": [
       "'RZHKTSNDCLLP@'"
      ]
     },
     "execution_count": 126,
     "metadata": {},
     "output_type": "execute_result"
    }
   ],
   "source": [
    "with open('inputs/everybody_codes_e2024_q06_p3.txt') as f:\n",
    "    s = f.read().split('\\n')\n",
    "\n",
    "branches = {row.split(':')[0]: row.split(':')[1].split(',') for row in s}\n",
    "\n",
    "strongest = find_strongest(branches)\n",
    "''.join([c[0] for c in strongest])"
   ]
  },
  {
   "cell_type": "markdown",
   "id": "5c79b7b2-7fdd-46e2-aed4-96aab091b652",
   "metadata": {},
   "source": [
    "## Quest 7"
   ]
  },
  {
   "cell_type": "markdown",
   "id": "4266e036-0f64-4792-bbd3-40eac1bb5b01",
   "metadata": {},
   "source": [
    "### Part 1"
   ]
  },
  {
   "cell_type": "code",
   "execution_count": 2,
   "id": "2a53ecce-4191-462a-bad0-31a08be060dc",
   "metadata": {},
   "outputs": [
    {
     "data": {
      "text/plain": [
       "'EHKICJDGA'"
      ]
     },
     "execution_count": 2,
     "metadata": {},
     "output_type": "execute_result"
    }
   ],
   "source": [
    "with open('inputs/everybody_codes_e2024_q07_p1.txt') as f:\n",
    "    s = f.read().split('\\n')\n",
    "\n",
    "plans = {row.split(':')[0]: row.split(':')[1].split(',') for row in s}\n",
    "\n",
    "def action(value, segment, plan):\n",
    "    act = plan[segment % len(plan)]\n",
    "    if act == '+':\n",
    "        return value+1\n",
    "    if act == '-':\n",
    "        return max(0, value-1)\n",
    "    return value\n",
    "\n",
    "def run_for(plan, segments):\n",
    "    value = 10\n",
    "    essence = 0\n",
    "    for i in range(segments):\n",
    "        value = action(value, i, plan)\n",
    "        essence += value\n",
    "    return essence\n",
    "\n",
    "plan_essences = {plan: run_for(plans[plan], 10) for plan in plans}\n",
    "''.join(sorted([plan for plan in plans], key=plan_essences.get, reverse=True))"
   ]
  },
  {
   "cell_type": "markdown",
   "id": "624316b9-ef94-4123-813e-3a396c941018",
   "metadata": {},
   "source": [
    "### Part 2"
   ]
  },
  {
   "cell_type": "code",
   "execution_count": 3,
   "id": "534d47ea-8ed1-489e-b093-85232033e8e1",
   "metadata": {},
   "outputs": [
    {
     "data": {
      "text/plain": [
       "'JGBKEAIFD'"
      ]
     },
     "execution_count": 3,
     "metadata": {},
     "output_type": "execute_result"
    }
   ],
   "source": [
    "with open('inputs/everybody_codes_e2024_q07_p2.txt') as f:\n",
    "    s = f.read().split('\\n')\n",
    "\n",
    "plans = {row.split(':')[0]: row.split(':')[1].split(',') for row in s}\n",
    "\n",
    "track_map = \"\"\"\n",
    "S-=++=-==++=++=-=+=-=+=+=--=-=++=-==++=-+=-=+=-=+=+=++=-+==++=++=-=-=--\n",
    "-                                                                     -\n",
    "=                                                                     =\n",
    "+                                                                     +\n",
    "=                                                                     +\n",
    "+                                                                     =\n",
    "=                                                                     =\n",
    "-                                                                     -\n",
    "--==++++==+=+++-=+=-=+=-+-=+-=+-=+=-=+=--=+++=++=+++==++==--=+=++==+++-\n",
    "\"\"\"[1:-1].split('\\n')\n",
    "\n",
    "def transpose(m):\n",
    "    return [''.join([m[y][x] for y in range(len(m))]) for x in range(len(m[0]))]\n",
    "\n",
    "track_map_t = transpose(track_map)\n",
    "track = track_map[0][1:] + track_map_t[-1][1:] + track_map[-1][-2::-1] + track_map_t[0][-2::-1]\n",
    "\n",
    "def move_on_track(value, segment, track, plan):\n",
    "    act = track[segment % len(track)]\n",
    "    if act == '+':\n",
    "        return value+1\n",
    "    if act == '-':\n",
    "        return max(0, value-1)\n",
    "    return action(value, segment, plan)\n",
    "\n",
    "def run_for(plan, track, loops):\n",
    "    value = 10\n",
    "    essence = 0\n",
    "    for i in range(loops*len(track)):\n",
    "        value = move_on_track(value, i, track, plan)\n",
    "        essence += value\n",
    "    return essence\n",
    "\n",
    "plan_essences = {plan: run_for(plans[plan], track, 10) for plan in plans}\n",
    "''.join(sorted([plan for plan in plans], key=plan_essences.get, reverse=True))"
   ]
  },
  {
   "cell_type": "markdown",
   "id": "9033197b-86ff-4d7b-8f7f-6da26f98abc1",
   "metadata": {},
   "source": [
    "### Part 3"
   ]
  },
  {
   "cell_type": "code",
   "execution_count": 4,
   "id": "ed33170f-370e-46ea-9774-db5ad4f070df",
   "metadata": {},
   "outputs": [
    {
     "data": {
      "text/plain": [
       "4180"
      ]
     },
     "execution_count": 4,
     "metadata": {},
     "output_type": "execute_result"
    }
   ],
   "source": [
    "with open('inputs/everybody_codes_e2024_q07_p3.txt') as f:\n",
    "    s = f.read()\n",
    "\n",
    "track_map = \"\"\"\n",
    "S+= +=-== +=++=     =+=+=--=    =-= ++=     +=-  =+=++=-+==+ =++=-=-=--\n",
    "- + +   + =   =     =      =   == = - -     - =  =         =-=        -\n",
    "= + + +-- =-= ==-==-= --++ +  == == = +     - =  =    ==++=    =++=-=++\n",
    "+ + + =     +         =  + + == == ++ =     = =  ==   =   = =++=\n",
    "= = + + +== +==     =++ == =+=  =  +  +==-=++ =   =++ --= + =\n",
    "+ ==- = + =   = =+= =   =       ++--          +     =   = = =--= ==++==\n",
    "=     ==- ==+-- = = = ++= +=--      ==+ ==--= +--+=-= ==- ==   =+=    =\n",
    "-               = = = =   +  +  ==+ = = +   =        ++    =          -\n",
    "-               = + + =   +  -  = + = = +   =        +     =          -\n",
    "--==++++==+=+++-= =-= =-+-=  =+-= =-= =--   +=++=+++==     -=+=++==+++-\n",
    "\"\"\"[1:-1].split('\\n')\n",
    "\n",
    "def find_next(current, previous, m):\n",
    "    (x,y) = current\n",
    "    for c in [(x-1,y), (x+1,y), (x,y-1), (x,y+1)]:\n",
    "        if (c != previous) and (c[0] >= 0) and (c[1] >= 0) and (c[0] < len(m[c[1]])) and (c[1] < len(m)) and (m[c[1]][c[0]] != ' '):\n",
    "            return c\n",
    "\n",
    "previous = (0,0)\n",
    "current = (1,0)\n",
    "track = []\n",
    "while track_map[current[1]][current[0]] != 'S':\n",
    "    track.append(track_map[current[1]][current[0]])\n",
    "    nxt = find_next(current, previous, track_map)\n",
    "    previous = current\n",
    "    current = nxt\n",
    "track.append(track_map[current[1]][current[0]])\n",
    "\n",
    "enemy_plan = s.split(':')[1].split(',')\n",
    "loops = len(enemy_plan)\n",
    "enemy_essence = run_for(enemy_plan, track, loops)\n",
    "\n",
    "available_actions = {'+':5,'-':3,'=':3}\n",
    "\n",
    "def flatten(l):\n",
    "    if not isinstance(l,list):\n",
    "        return [l]\n",
    "    flat = []\n",
    "    for sl in l:\n",
    "        flat.extend(flatten(sl))\n",
    "    return flat\n",
    "\n",
    "def generate_plans(available, current_plan):\n",
    "    if len(current_plan) == 11:\n",
    "        return tuple(current_plan)\n",
    "    plans = []\n",
    "    for act in available:\n",
    "        if available[act] != 0:\n",
    "            av = {a:available[a]-1 if a == act else available[a] for a in available}\n",
    "            plans.append(generate_plans(av, current_plan + [act]))\n",
    "    return plans\n",
    "\n",
    "plans = set(flatten(generate_plans(available_actions, [])))\n",
    "essences = [run_for(plan, track, loops) for plan in plans]\n",
    "\n",
    "len([e for e in essences if e > enemy_essence])"
   ]
  },
  {
   "cell_type": "markdown",
   "id": "20f8ba4e-e20c-4895-ad8a-f81f963fc779",
   "metadata": {},
   "source": [
    "## Quest 8"
   ]
  },
  {
   "cell_type": "markdown",
   "id": "ea79db6e-56e3-49f5-9b89-b61536a275bf",
   "metadata": {},
   "source": [
    "### Part 1"
   ]
  },
  {
   "cell_type": "code",
   "execution_count": 12,
   "id": "b5de1d67-0e2b-4d0a-8d89-3bc5313d8cef",
   "metadata": {},
   "outputs": [
    {
     "data": {
      "text/plain": [
       "8288303"
      ]
     },
     "execution_count": 12,
     "metadata": {},
     "output_type": "execute_result"
    }
   ],
   "source": [
    "import math\n",
    "\n",
    "with open('inputs/everybody_codes_e2024_q08_p1.txt') as f:\n",
    "    s = f.read()\n",
    "\n",
    "blocks = int(s)\n",
    "\n",
    "width = 2*int(math.sqrt(blocks))+1\n",
    "missing = (int(math.sqrt(blocks))+1)**2 - blocks\n",
    "\n",
    "width*missing"
   ]
  },
  {
   "cell_type": "markdown",
   "id": "dded7b3f-423d-4b1b-92a5-6ed5ba52b1b3",
   "metadata": {},
   "source": [
    "### Part 2"
   ]
  },
  {
   "cell_type": "code",
   "execution_count": 37,
   "id": "623094cf-37d0-4854-93aa-ba433fc7f501",
   "metadata": {},
   "outputs": [
    {
     "data": {
      "text/plain": [
       "104365988"
      ]
     },
     "execution_count": 37,
     "metadata": {},
     "output_type": "execute_result"
    }
   ],
   "source": [
    "with open('inputs/everybody_codes_e2024_q08_p2.txt') as f:\n",
    "    s = f.read()\n",
    "\n",
    "priests = int(s)\n",
    "acolytes = 1111\n",
    "blocks = 20240000\n",
    "\n",
    "def layer_width(l):\n",
    "    return 2*l-1\n",
    "\n",
    "def layer_thinkness(last):\n",
    "    return (last*priests) % acolytes\n",
    "\n",
    "used = 0\n",
    "layers = 0\n",
    "thickness = 1\n",
    "while used < blocks:\n",
    "    layers += 1\n",
    "    used += thickness*layer_width(layers)\n",
    "    thickness = layer_thinkness(thickness)\n",
    "\n",
    "layer_width(layers) * (used-blocks)"
   ]
  },
  {
   "cell_type": "markdown",
   "id": "481022a3-8c0d-4466-a6c6-d88ad2793de3",
   "metadata": {},
   "source": [
    "### Part 3"
   ]
  },
  {
   "cell_type": "code",
   "execution_count": 202,
   "id": "e25f54ce-8b6c-4b44-8dfb-12a9fb535453",
   "metadata": {},
   "outputs": [
    {
     "data": {
      "text/plain": [
       "37396"
      ]
     },
     "execution_count": 202,
     "metadata": {},
     "output_type": "execute_result"
    }
   ],
   "source": [
    "with open('inputs/everybody_codes_e2024_q08_p3.txt') as f:\n",
    "    s = f.read()\n",
    "\n",
    "priests = int(s)\n",
    "acolytes = 10\n",
    "blocks = 202400000\n",
    "\n",
    "def layer_thinkness(last):\n",
    "    return (last*priests) % acolytes + acolytes\n",
    "\n",
    "def count_blocks(cols):\n",
    "    return cols[0] + 2*sum(cols[1:])\n",
    "\n",
    "def remove_blocks(w,h):\n",
    "    return (w*h*priests) % acolytes\n",
    "\n",
    "def removed(cols):\n",
    "    w = 2*len(cols)-1\n",
    "    total = remove_blocks(w,cols[0])\n",
    "    for h in cols[1:-1]:\n",
    "        total += 2*remove_blocks(w,h)\n",
    "    return total\n",
    "\n",
    "thickness = 1\n",
    "cols = [1]\n",
    "while count_blocks(cols) < blocks:\n",
    "    thickness = layer_thinkness(thickness)\n",
    "    cols = [c+thickness for c in cols] + [thickness]\n",
    "\n",
    "count_blocks(cols)-removed(cols)-blocks"
   ]
  },
  {
   "cell_type": "markdown",
   "id": "701fdc97-57ec-45d5-a362-5119114600cc",
   "metadata": {},
   "source": [
    "## Quest 9"
   ]
  },
  {
   "cell_type": "markdown",
   "id": "c08f10d6-cc8a-4143-b4c7-29e231f8fa48",
   "metadata": {},
   "source": [
    "### Part 1"
   ]
  },
  {
   "cell_type": "code",
   "execution_count": 15,
   "id": "ee6ba046-65f6-4609-be39-e6234f3955ff",
   "metadata": {},
   "outputs": [
    {
     "data": {
      "text/plain": [
       "12684"
      ]
     },
     "execution_count": 15,
     "metadata": {},
     "output_type": "execute_result"
    }
   ],
   "source": [
    "with open('inputs/everybody_codes_e2024_q09_p1.txt') as f:\n",
    "    s = f.read().split('\\n')\n",
    "\n",
    "lights = [int(n) for n in s]\n",
    "stamps = [1, 3, 5, 10]\n",
    "\n",
    "def greed(n, count):\n",
    "    if n == 0:\n",
    "        return count\n",
    "    options = [s for s in stamps if s <= n]\n",
    "    return greed(n-options[-1], count +1)\n",
    "\n",
    "sum([greed(l,0) for l in lights])"
   ]
  },
  {
   "cell_type": "markdown",
   "id": "b259c346-3b74-4fb8-9313-9b168e1aae6c",
   "metadata": {},
   "source": [
    "### Part 2"
   ]
  },
  {
   "cell_type": "code",
   "execution_count": 37,
   "id": "93baac24-70a6-4fd2-8b44-7fdb1bfd304b",
   "metadata": {},
   "outputs": [
    {
     "data": {
      "text/plain": [
       "4971"
      ]
     },
     "execution_count": 37,
     "metadata": {},
     "output_type": "execute_result"
    }
   ],
   "source": [
    "with open('inputs/everybody_codes_e2024_q09_p2.txt') as f:\n",
    "    s = f.read().split('\\n')\n",
    "\n",
    "lights = [int(n) for n in s]\n",
    "stamps = [1, 3, 5, 10, 15, 16, 20, 24, 25, 30]\n",
    "\n",
    "def min_stamp(lights):\n",
    "    limit = max(lights)\n",
    "    queue = set(stamps)\n",
    "    least_stamps = {}\n",
    "    current_count = 0\n",
    "        \n",
    "    while len(least_stamps) < limit:\n",
    "        current_count += 1\n",
    "        new_queue = set()\n",
    "        for q in queue:\n",
    "            least_stamps[q] = current_count\n",
    "            next_options = {q+s for s in stamps if q+s <= limit}\n",
    "            new_queue.update(next_options)\n",
    "        queue = {q for q in new_queue if q not in least_stamps}\n",
    "\n",
    "    return least_stamps\n",
    "\n",
    "least_stamps = min_stamp(lights)\n",
    "sum([least_stamps[l] for l in lights])"
   ]
  },
  {
   "cell_type": "markdown",
   "id": "e1b455ce-006f-4977-af50-7ff562b94562",
   "metadata": {},
   "source": [
    "### Part 3"
   ]
  },
  {
   "cell_type": "code",
   "execution_count": 76,
   "id": "edee0545-c86f-4973-9199-8d36d92502b1",
   "metadata": {},
   "outputs": [
    {
     "data": {
      "text/plain": [
       "153375"
      ]
     },
     "execution_count": 76,
     "metadata": {},
     "output_type": "execute_result"
    }
   ],
   "source": [
    "with open('inputs/everybody_codes_e2024_q09_p3.txt') as f:\n",
    "    s = f.read().split('\\n')\n",
    "\n",
    "lights = [int(n) for n in s]\n",
    "stamps = [1, 3, 5, 10, 15, 16, 20, 24, 25, 30, 37, 38, 49, 50, 74, 75, 100, 101]\n",
    "least_stamps = min_stamp(lights)\n",
    "\n",
    "def least_split(n, least_stamps):\n",
    "    return min([least_stamps[n//2-i]+least_stamps[n-(n//2-i)] for i in range(0,51) if n-2*(n//2-i) <= 100])\n",
    "\n",
    "sum([least_split(l, least_stamps) for l in lights])"
   ]
  },
  {
   "cell_type": "markdown",
   "id": "34195779-d1ca-4a76-8c82-db4e22ff9cbe",
   "metadata": {},
   "source": [
    "## Quest 10"
   ]
  },
  {
   "cell_type": "markdown",
   "id": "c7bce9e4-6ea3-487c-ae02-3a2b167e4f06",
   "metadata": {},
   "source": [
    "### Part 1"
   ]
  },
  {
   "cell_type": "code",
   "execution_count": 118,
   "id": "5aa8c8c0-42f1-479d-9ad0-39632fed64c2",
   "metadata": {},
   "outputs": [
    {
     "data": {
      "text/plain": [
       "'BHTJDMVFSGWKXPQN'"
      ]
     },
     "execution_count": 118,
     "metadata": {},
     "output_type": "execute_result"
    }
   ],
   "source": [
    "with open('inputs/everybody_codes_e2024_q10_p1.txt') as f:\n",
    "    s = f.read().split('\\n')\n",
    "\n",
    "def resolve(x,y,grid):\n",
    "    row = [grid[(xx,yy)] for (xx,yy) in grid if yy == y]\n",
    "    col = [grid[(xx,yy)] for (xx,yy) in grid if xx == x]\n",
    "    return [c for c in row if c in col][0]\n",
    "\n",
    "def solve_grid(s):\n",
    "    grid = {(x,y): s[y][x] for y in range(len(s)) for x in range(len(s[0])) if s[y][x] != '*' and s[y][x] != '.'}\n",
    "    fill = {(x,y):resolve(x,y,grid) for y in range(len(s)) for x in range(len(s[0])) if s[y][x] == '.'}\n",
    "    return ''.join([fill[(x,y)] for y in range(2,6) for x in range(2,6)])\n",
    "\n",
    "solve_grid(s)"
   ]
  },
  {
   "cell_type": "markdown",
   "id": "31131091-6568-405d-9cef-69b7209b5ddb",
   "metadata": {},
   "source": [
    "### Part 2"
   ]
  },
  {
   "cell_type": "code",
   "execution_count": 119,
   "id": "9905758f-a87a-4f1c-82c7-a8ce4603215d",
   "metadata": {},
   "outputs": [
    {
     "data": {
      "text/plain": [
       "199395"
      ]
     },
     "execution_count": 119,
     "metadata": {},
     "output_type": "execute_result"
    }
   ],
   "source": [
    "with open('inputs/everybody_codes_e2024_q10_p2.txt') as f:\n",
    "    s = f.read()\n",
    "\n",
    "def parse_grid_row(grid_row):\n",
    "    lines = grid_row.split('\\n')\n",
    "    grid_lines = [line.split(' ') for line in lines]\n",
    "    return [[line[i] for line in grid_lines] for i in range(len(grid_lines[0]))]\n",
    "\n",
    "def base_power(c):\n",
    "    return ord(c)-64\n",
    "\n",
    "def power(word):\n",
    "    return sum([i*base_power(c) for i,c in enumerate(word,1)])\n",
    "\n",
    "grid_rows = [parse_grid_row(r) for r in s.split('\\n\\n')]\n",
    "grids = [grid for row in grid_rows for grid in row]\n",
    "\n",
    "words = [solve_grid(grid) for grid in grids]\n",
    "\n",
    "sum([power(word) for word in words])"
   ]
  },
  {
   "cell_type": "markdown",
   "id": "143b27a5-875c-45c1-9c06-e46c99e27a6c",
   "metadata": {},
   "source": [
    "### Part 3"
   ]
  },
  {
   "cell_type": "code",
   "execution_count": 123,
   "id": "7679075c-8a4c-48b3-b263-f1946f6b7fe3",
   "metadata": {},
   "outputs": [
    {
     "data": {
      "text/plain": [
       "208756"
      ]
     },
     "execution_count": 123,
     "metadata": {},
     "output_type": "execute_result"
    }
   ],
   "source": [
    "with open('inputs/everybody_codes_e2024_q10_p3.txt') as f:\n",
    "    s = f.read().split('\\n')\n",
    "\n",
    "wall = [list(line) for line in s]\n",
    "h = len(wall)//6\n",
    "w = len(wall[0])//6\n",
    "\n",
    "def grid_at_coord(x,y,wall):\n",
    "    lines = wall[6*y:6*(y+1)+2]\n",
    "    return [line[6*x:6*(x+1)+2] for line in wall[6*y:6*(y+1)+2]]\n",
    "\n",
    "\n",
    "def fill_single(x,y,grid):\n",
    "    row = [grid[y][xx] for xx in [0,1,6,7]]\n",
    "    col = [grid[yy][x] for yy in [0,1,6,7]]\n",
    "    solutions = [c for c in row if c in col]\n",
    "    if len(solutions) == 1:\n",
    "        return solutions[0]\n",
    "    if len(solutions) == 0 and ('?' in row or '?' in col):\n",
    "        return '?'\n",
    "    return None\n",
    "\n",
    "def related_unknown_coord(x,y,grid):\n",
    "    for i in [0,1,6,7]:\n",
    "        if grid[i][x] == '?':\n",
    "            return (x,i)\n",
    "        if grid[y][i] == '?':\n",
    "            return (i,y)\n",
    "\n",
    "\n",
    "def resolve_unknown(x,y,grid,used):\n",
    "    row = [grid[y][xx] for xx in [0,1,6,7]]\n",
    "    col = [grid[yy][x] for yy in [0,1,6,7]]\n",
    "    if '?' in row:\n",
    "        opt = [o for o in col if o not in used]\n",
    "    if '?' in col:\n",
    "        opt = [o for o in row if o not in used]\n",
    "    if len(opt) == 1:\n",
    "        return opt[0]\n",
    "    if len(opt) == 0:\n",
    "        return None\n",
    "    return '?'\n",
    "\n",
    "\n",
    "def replace_wall_segment(x,y,grid,wall):\n",
    "    for yy in range(8):\n",
    "        for xx in range(8):\n",
    "            wall[y*6+yy][x*6+xx] = grid[yy][xx]\n",
    "\n",
    "\n",
    "def fill_grid(x,y,wall):\n",
    "    grid = grid_at_coord(x,y,wall)\n",
    "    used = set()\n",
    "    for xx in range(2,6):\n",
    "        for yy in range(2,6):\n",
    "            sol = fill_single(xx,yy,grid)\n",
    "            if sol is None or sol in used:\n",
    "                return\n",
    "            if sol != '?':\n",
    "                used.add(sol)\n",
    "            grid[yy][xx] = sol\n",
    "    for xx in range(2,6):\n",
    "        for yy in range(2,6):\n",
    "            if grid[yy][xx] == '?':\n",
    "                sol = resolve_unknown(xx,yy,grid,used)\n",
    "                if sol is None:\n",
    "                    return\n",
    "                if sol != '?':\n",
    "                    used.add(sol)\n",
    "                grid[yy][xx] = sol\n",
    "                (gx,gy) = related_unknown_coord(xx,yy,grid)\n",
    "                grid[gy][gx] = sol\n",
    "                \n",
    "    replace_wall_segment(x,y,grid,wall)\n",
    "\n",
    "\n",
    "def solved(grid):\n",
    "    for line in grid:\n",
    "        if '.' in line:\n",
    "            return False\n",
    "    return True\n",
    "\n",
    "\n",
    "def extract_word(grid):\n",
    "    return ''.join([grid[y][x] for y in range(2,6) for x in range(2,6)])\n",
    "\n",
    "\n",
    "for i in range(2):\n",
    "    for y in range(h):\n",
    "        for x in range(w):\n",
    "            fill_grid(x,y,wall)\n",
    "\n",
    "\n",
    "grids = [grid_at_coord(x,y,wall) for y in range(h) for x in range(w) if solved(grid_at_coord(x,y,wall))]\n",
    "words = [extract_word(grid) for grid in grids]\n",
    "\n",
    "sum([power(word) for word in words])"
   ]
  },
  {
   "cell_type": "markdown",
   "id": "c47d3890-58c0-48b2-9bb5-67cddfd075e6",
   "metadata": {},
   "source": [
    "## Quest 11"
   ]
  },
  {
   "cell_type": "markdown",
   "id": "2331a34a-c82f-49b2-8c65-1c3e2adae214",
   "metadata": {},
   "source": [
    "### Part 1"
   ]
  },
  {
   "cell_type": "code",
   "execution_count": 139,
   "id": "5baed893-b655-4ece-8417-884732cbd4b4",
   "metadata": {},
   "outputs": [
    {
     "data": {
      "text/plain": [
       "34"
      ]
     },
     "execution_count": 139,
     "metadata": {},
     "output_type": "execute_result"
    }
   ],
   "source": [
    "with open('inputs/everybody_codes_e2024_q11_p1.txt') as f:\n",
    "    s = f.read().split('\\n')\n",
    "\n",
    "conversions = {line.split(':')[0]: line.split(':')[1].split(',') for line in s}\n",
    "\n",
    "def breed(population):\n",
    "    new_population = {}\n",
    "    for t in population:\n",
    "        for tt in conversions[t]:\n",
    "            new_population[tt] = new_population.get(tt,0) + population[t]\n",
    "    return new_population\n",
    "\n",
    "\n",
    "def population_size_after(start, days):\n",
    "    population = {t: 1 if t == start else 0 for t in conversions}\n",
    "    for _ in range(days):\n",
    "        population = breed(population)\n",
    "    return sum(population.values())\n",
    "\n",
    "population_size_after('A',4)"
   ]
  },
  {
   "cell_type": "markdown",
   "id": "d4767052-4d1e-41d5-b7f8-e40a45bf7656",
   "metadata": {},
   "source": [
    "### Part 2"
   ]
  },
  {
   "cell_type": "code",
   "execution_count": 140,
   "id": "8650b00e-8f8b-4c8b-b664-a9447629a790",
   "metadata": {},
   "outputs": [
    {
     "data": {
      "text/plain": [
       "433585"
      ]
     },
     "execution_count": 140,
     "metadata": {},
     "output_type": "execute_result"
    }
   ],
   "source": [
    "with open('inputs/everybody_codes_e2024_q11_p2.txt') as f:\n",
    "    s = f.read().split('\\n')\n",
    "\n",
    "conversions = {line.split(':')[0]: line.split(':')[1].split(',') for line in s}\n",
    "\n",
    "population_size_after('Z',10)"
   ]
  },
  {
   "cell_type": "markdown",
   "id": "af3af826-d29f-4c08-a5d3-2177c7bb5619",
   "metadata": {},
   "source": [
    "### Part 3"
   ]
  },
  {
   "cell_type": "code",
   "execution_count": 143,
   "id": "a508a75f-071b-4ffb-a19b-db380783e654",
   "metadata": {},
   "outputs": [
    {
     "data": {
      "text/plain": [
       "1373474665048"
      ]
     },
     "execution_count": 143,
     "metadata": {},
     "output_type": "execute_result"
    }
   ],
   "source": [
    "with open('inputs/everybody_codes_e2024_q11_p3.txt') as f:\n",
    "    s = f.read().split('\\n')\n",
    "\n",
    "conversions = {line.split(':')[0]: line.split(':')[1].split(',') for line in s}\n",
    "\n",
    "populations = {start: population_size_after(start,20) for start in conversions}\n",
    "\n",
    "max(populations.values()) - min(populations.values())"
   ]
  },
  {
   "cell_type": "markdown",
   "id": "bc130503-97ae-46da-8b23-12c964a41ab4",
   "metadata": {},
   "source": [
    "## Quest 12"
   ]
  },
  {
   "cell_type": "markdown",
   "id": "03a07c65-1500-4687-afca-755cfe2acaf7",
   "metadata": {},
   "source": [
    "### Part 1"
   ]
  },
  {
   "cell_type": "code",
   "execution_count": 180,
   "id": "b0dd645e-e47c-48e9-b347-d22e38e7c927",
   "metadata": {},
   "outputs": [
    {
     "data": {
      "text/plain": [
       "206"
      ]
     },
     "execution_count": 180,
     "metadata": {},
     "output_type": "execute_result"
    }
   ],
   "source": [
    "with open('inputs/everybody_codes_e2024_q12_p1.txt') as f:\n",
    "    s = f.read().split('\\n')\n",
    "\n",
    "def transform_coord(c0,coord):\n",
    "    return (coord[0]-c0[0], c0[1]-coord[1])\n",
    "    \n",
    "def transform_coords(c0,segments,targets):\n",
    "    seg = {s: transform_coord(c0,segments[s]) for s in segments}\n",
    "    tar = {transform_coord(c0,c): targets[c] for c in targets}\n",
    "    return seg,tar\n",
    "\n",
    "def parse(s):\n",
    "    segments = {}\n",
    "    targets = {}\n",
    "    for y in range(len(s)):\n",
    "        for x in range(len(s[0])):\n",
    "            if s[y][x] not in '.=':\n",
    "                if s[y][x] in 'ABC':\n",
    "                    segments[s[y][x]] = (x,y)\n",
    "                else:\n",
    "                    targets[(x,y)] = s[y][x]\n",
    "    return transform_coords(segments['A'],segments,targets)\n",
    "\n",
    "def required_power(coord):\n",
    "    return (coord[0]+coord[1])//3\n",
    "\n",
    "def required_height(coord):\n",
    "    return (coord[0]+coord[1])%3\n",
    "\n",
    "def rank_desc(coord):\n",
    "    return (required_height(coord)+1)*required_power(coord)\n",
    "\n",
    "segments, targets = parse(s)\n",
    "\n",
    "sum([rank_desc(t) for t in targets])"
   ]
  },
  {
   "cell_type": "markdown",
   "id": "5e118818-75a5-4643-b37f-ac5db2070ad5",
   "metadata": {},
   "source": [
    "### Part 2"
   ]
  },
  {
   "cell_type": "code",
   "execution_count": 181,
   "id": "9c0d6694-039c-43e0-a5e4-111ccaa0b5c5",
   "metadata": {},
   "outputs": [
    {
     "data": {
      "text/plain": [
       "21009"
      ]
     },
     "execution_count": 181,
     "metadata": {},
     "output_type": "execute_result"
    }
   ],
   "source": [
    "with open('inputs/everybody_codes_e2024_q12_p2.txt') as f:\n",
    "    s = f.read().split('\\n')\n",
    "\n",
    "segments, targets = parse(s)\n",
    "\n",
    "sum([2*rank_desc(t) if targets[t] == 'H' else rank_desc(t) for t in targets])"
   ]
  },
  {
   "cell_type": "markdown",
   "id": "814dc4a3-21ca-4a84-943e-ccbf7afdd244",
   "metadata": {},
   "source": [
    "### Part 3"
   ]
  },
  {
   "cell_type": "code",
   "execution_count": 330,
   "id": "95ae8c8b-24c4-40e3-8a7d-edfa4d86169a",
   "metadata": {},
   "outputs": [
    {
     "data": {
      "text/plain": [
       "732340"
      ]
     },
     "execution_count": 330,
     "metadata": {},
     "output_type": "execute_result"
    }
   ],
   "source": [
    "with open('inputs/everybody_codes_e2024_q12_p3.txt') as f:\n",
    "    s = f.read().split('\\n')\n",
    "\n",
    "\n",
    "def impact(coords):\n",
    "    x,y = coords\n",
    "    t = x//2\n",
    "    return (t, y-(x-t))\n",
    "\n",
    "\n",
    "def power_asc(x,y):\n",
    "    if x == y:\n",
    "        return y\n",
    "\n",
    "\n",
    "def power_hor(x,y):\n",
    "    if y>0 and y < x and x <= 2*y:\n",
    "        return y\n",
    "\n",
    "\n",
    "def power_desc(x,y):\n",
    "    if x > 2*y and (x+y)%3 == 0:\n",
    "        return (x+y)//3\n",
    "\n",
    "\n",
    "def adjust(x,y,d):\n",
    "    return (x,y-d)\n",
    "\n",
    "\n",
    "def segment_ranks(x,y,h):\n",
    "    seg = h+1\n",
    "    x,y = adjust(x,y,h)\n",
    "    powers = [p for p in [power_asc(x,y), power_hor(x,y), power_desc(x,y)] if p is not None]\n",
    "    if len(powers) > 0:\n",
    "        return powers[0] * seg\n",
    "\n",
    "\n",
    "def rank(coord):\n",
    "    x,y = impact(coord)\n",
    "    segments = [segment_ranks(x,y,h) for h in range(3)]\n",
    "    return min([s for s in segments if s is not None])\n",
    "\n",
    "\n",
    "meteors = [tuple(int(i) for i in line.split(' ')) for line in s]\n",
    "sum([rank(meteor) for meteor in meteors])"
   ]
  },
  {
   "cell_type": "markdown",
   "id": "cbfb9e07-7d04-4ba2-a854-f3fc211c0759",
   "metadata": {},
   "source": [
    "## Quest 13"
   ]
  },
  {
   "cell_type": "markdown",
   "id": "6836aa97-241d-407c-938b-338818be4167",
   "metadata": {},
   "source": [
    "### Part 1"
   ]
  },
  {
   "cell_type": "code",
   "execution_count": 60,
   "id": "b1e41f0e-28b4-426f-8bf0-b357555eb301",
   "metadata": {},
   "outputs": [
    {
     "data": {
      "text/plain": [
       "159"
      ]
     },
     "execution_count": 60,
     "metadata": {},
     "output_type": "execute_result"
    }
   ],
   "source": [
    "with open('inputs/everybody_codes_e2024_q13_p1.txt') as f:\n",
    "    s = f.read().split('\\n')\n",
    "\n",
    "\n",
    "def parse(s):\n",
    "    platforms = {}\n",
    "    for y in range(len(s)):\n",
    "        for x in range(len(s[0])):\n",
    "            if s[y][x] == 'S':\n",
    "                start = (x,y)\n",
    "                platforms[(x,y)] = 0\n",
    "            if s[y][x] == 'E':\n",
    "                end = (x,y)\n",
    "                platforms[(x,y)] = 0\n",
    "            if s[y][x].isdigit():\n",
    "                platforms[(x,y)] = int(s[y][x])\n",
    "    return platforms, start, end\n",
    "        \n",
    "def distance(p0,p1):\n",
    "    mn = min(p0,p1)\n",
    "    mx = max(p0,p1)\n",
    "    return min(mx-mn,mn+10-mx)+1\n",
    "\n",
    "\n",
    "def neighbours(platform):\n",
    "    x,y = platform\n",
    "    return [p for p in [(x-1,y),(x+1,y),(x,y-1),(x,y+1)] if p in platforms]\n",
    "\n",
    "\n",
    "def bfs(platforms, start, end):\n",
    "    queue = {start}\n",
    "    shortest = {start: 0}\n",
    "    while len(queue) != 0:\n",
    "        current = queue.pop()\n",
    "        dist = shortest[current]\n",
    "        current_h = platforms[current]\n",
    "        for p in neighbours(current):\n",
    "            d = distance(current_h, platforms[p])\n",
    "            if p not in shortest or shortest[p] > d+dist:\n",
    "                shortest[p] = d+dist\n",
    "                queue.add(p)\n",
    "    return shortest[end]\n",
    "    \n",
    "\n",
    "platforms, start, end = parse(s)\n",
    "bfs(platforms, start, end)"
   ]
  },
  {
   "cell_type": "markdown",
   "id": "4f668370-bf72-4b7a-bffb-4d8297319b4a",
   "metadata": {},
   "source": [
    "### Part 2"
   ]
  },
  {
   "cell_type": "code",
   "execution_count": 61,
   "id": "4e860254-cfc5-44bf-9b87-c66d62ebdb14",
   "metadata": {},
   "outputs": [
    {
     "data": {
      "text/plain": [
       "676"
      ]
     },
     "execution_count": 61,
     "metadata": {},
     "output_type": "execute_result"
    }
   ],
   "source": [
    "with open('inputs/everybody_codes_e2024_q13_p2.txt') as f:\n",
    "    s = f.read().split('\\n')\n",
    "\n",
    "platforms, start, end = parse(s)\n",
    "bfs(platforms, start, end)"
   ]
  },
  {
   "cell_type": "markdown",
   "id": "5428b292-e09b-4c1b-9975-5f5bb16bf2d5",
   "metadata": {},
   "source": [
    "### Part 3"
   ]
  },
  {
   "cell_type": "code",
   "execution_count": 63,
   "id": "371ce853-b4cf-4219-b70d-038bc41f12b2",
   "metadata": {},
   "outputs": [
    {
     "data": {
      "text/plain": [
       "549"
      ]
     },
     "execution_count": 63,
     "metadata": {},
     "output_type": "execute_result"
    }
   ],
   "source": [
    "with open('inputs/everybody_codes_e2024_q13_p3.txt') as f:\n",
    "    s = f.read().split('\\n')\n",
    "\n",
    "def parse(s):\n",
    "    platforms = {}\n",
    "    starts = set()\n",
    "    for y in range(len(s)):\n",
    "        for x in range(len(s[0])):\n",
    "            if s[y][x] == 'S':\n",
    "                starts.add((x,y))\n",
    "                platforms[(x,y)] = 0\n",
    "            if s[y][x] == 'E':\n",
    "                end = (x,y)\n",
    "                platforms[(x,y)] = 0\n",
    "            if s[y][x].isdigit():\n",
    "                platforms[(x,y)] = int(s[y][x])\n",
    "    return platforms, starts, end\n",
    "\n",
    "\n",
    "def bfs(platforms, starts, end):\n",
    "    queue = starts\n",
    "    shortest = {start: 0 for start in starts}\n",
    "    while len(queue) != 0:\n",
    "        current = queue.pop()\n",
    "        dist = shortest[current]\n",
    "        current_h = platforms[current]\n",
    "        for p in neighbours(current):\n",
    "            d = distance(current_h, platforms[p])\n",
    "            if p not in shortest or shortest[p] > d+dist:\n",
    "                shortest[p] = d+dist\n",
    "                queue.add(p)\n",
    "    return shortest[end]\n",
    "\n",
    "\n",
    "platforms, starts, end = parse(s)\n",
    "bfs(platforms, starts, end)"
   ]
  },
  {
   "cell_type": "markdown",
   "id": "97987c56-c01f-4dfa-9a0f-451fd8d37b27",
   "metadata": {},
   "source": [
    "## Quest 14"
   ]
  },
  {
   "cell_type": "markdown",
   "id": "2f6d8391-3021-4ca8-83da-5bbfcdedb6e4",
   "metadata": {},
   "source": [
    "### Part 1"
   ]
  },
  {
   "cell_type": "code",
   "execution_count": 70,
   "id": "985a8d13-3be0-4a91-b453-0ffd43079f2f",
   "metadata": {},
   "outputs": [
    {
     "data": {
      "text/plain": [
       "136"
      ]
     },
     "execution_count": 70,
     "metadata": {},
     "output_type": "execute_result"
    }
   ],
   "source": [
    "with open('inputs/everybody_codes_e2024_q14_p1.txt') as f:\n",
    "    s = f.read().split(',')\n",
    "\n",
    "growth = [(g[0], int(g[1:])) for g in s]\n",
    "\n",
    "current = 0\n",
    "max_h = 0\n",
    "for d,l in growth:\n",
    "    if d == 'D':\n",
    "        current -= l\n",
    "    if d == 'U':\n",
    "        current += l\n",
    "        if current > max_h:\n",
    "            max_h = current\n",
    "\n",
    "max_h"
   ]
  },
  {
   "cell_type": "markdown",
   "id": "8c740925-ba43-4e47-9887-ee16fd199a2c",
   "metadata": {},
   "source": [
    "### Part 2"
   ]
  },
  {
   "cell_type": "code",
   "execution_count": 85,
   "id": "54c55bc9-5e81-4c69-aeb2-1d4a50b112a4",
   "metadata": {},
   "outputs": [
    {
     "data": {
      "text/plain": [
       "5131"
      ]
     },
     "execution_count": 85,
     "metadata": {},
     "output_type": "execute_result"
    }
   ],
   "source": [
    "with open('inputs/everybody_codes_e2024_q14_p2.txt') as f:\n",
    "    s = f.read().split('\\n')\n",
    "\n",
    "\n",
    "def parse_line(line):\n",
    "    return [(g[0], int(g[1:])) for g in line.split(',')]\n",
    "\n",
    "\n",
    "def segments(current, direction, length):\n",
    "    if direction == 'U':\n",
    "        mask = (1,0,0)\n",
    "    if direction == 'D':\n",
    "        mask = (-1,0,0)\n",
    "    if direction == 'R':\n",
    "        mask = (0,1,0)\n",
    "    if direction == 'L':\n",
    "        mask = (0,-1,0)\n",
    "    if direction == 'F':\n",
    "        mask = (0,0,1)\n",
    "    if direction == 'B':\n",
    "        mask = (0,0,-1)\n",
    "    xm,ym,zm = mask\n",
    "\n",
    "    x,y,z = current\n",
    "    return ((x+length*xm, y+length*ym, z+length*zm),{(x+i*xm, y+i*ym, z+i*zm) for i in range(1,length+1)})\n",
    "    \n",
    "\n",
    "def grow_single(current, direction, length, all_segments, covered):\n",
    "    if (current, direction, length) in covered:\n",
    "        return covered[(current, direction, length)]\n",
    "        \n",
    "    nxt, segs = segments(current, direction, length)\n",
    "    all_segments.update(segs)\n",
    "    covered[(current, direction, length)] = nxt\n",
    "    return nxt\n",
    "\n",
    "\n",
    "def grow_branch(branch, all_segments, covered):\n",
    "    current = (0,0,0)\n",
    "    for direction, length in branch:\n",
    "        current = grow_single(current, direction, length, all_segments, covered)\n",
    "    return current\n",
    "\n",
    "\n",
    "def grow_tree(branches):\n",
    "    covered = {}\n",
    "    all_segments = set()\n",
    "    for branch in branches:\n",
    "        grow_branch(branch, all_segments, covered)\n",
    "\n",
    "    return all_segments\n",
    "\n",
    "\n",
    "branches = [parse_line(line) for line in s]\n",
    "len(grow_tree(branches))"
   ]
  },
  {
   "cell_type": "markdown",
   "id": "cfcacbd1-fad9-4430-aa9d-25685d710e6a",
   "metadata": {},
   "source": [
    "### Part 3"
   ]
  },
  {
   "cell_type": "code",
   "execution_count": 98,
   "id": "b489a2e7-6251-40ab-92be-aa1e1ec96721",
   "metadata": {},
   "outputs": [
    {
     "data": {
      "text/plain": [
       "1582"
      ]
     },
     "execution_count": 98,
     "metadata": {},
     "output_type": "execute_result"
    }
   ],
   "source": [
    "with open('inputs/everybody_codes_e2024_q14_p3.txt') as f:\n",
    "    s = f.read().split('\\n')\n",
    "\n",
    "\n",
    "def grow_tree(branches):\n",
    "    covered = {}\n",
    "    all_segments = set()\n",
    "    leaves = set()\n",
    "    for branch in branches:\n",
    "        leaf = grow_branch(branch, all_segments, covered)\n",
    "        leaves.add(leaf)\n",
    "\n",
    "    return all_segments, leaves\n",
    "\n",
    "\n",
    "def neighbours(segment, tree):\n",
    "    x,y,z = segment\n",
    "    return [p for p in [(x-1,y,z),(x+1,y,z),(x,y-1,z),(x,y+1,z),(x,y,z-1),(x,y,z+1)] if p in tree]\n",
    "\n",
    "\n",
    "def murkiness(distances, leaves):\n",
    "    return sum([distances[leaf] for leaf in leaves])\n",
    "    \n",
    "\n",
    "def bfs(start, tree, leaves):\n",
    "    queue = {start}\n",
    "    shortest = {start: 0}\n",
    "    while len(queue) != 0:\n",
    "        current = queue.pop()\n",
    "        dist = shortest[current]\n",
    "        for seg in neighbours(current, tree):\n",
    "            if seg not in shortest or shortest[seg] > dist+1:\n",
    "                shortest[seg] = dist+1\n",
    "                queue.add(seg)\n",
    "    return murkiness(shortest, leaves)\n",
    "    \n",
    "\n",
    "branches = [parse_line(line) for line in s]\n",
    "tree, leaves = grow_tree(branches)\n",
    "trunks = [(x,y,z) for (x,y,z) in tree if x > 0 and y == 0 and z == 0]\n",
    "\n",
    "min([bfs(trunk, tree, leaves) for trunk in trunks])"
   ]
  },
  {
   "cell_type": "markdown",
   "id": "2d93462d-d497-45ad-89db-04d161839519",
   "metadata": {},
   "source": [
    "## Quest 15"
   ]
  },
  {
   "cell_type": "markdown",
   "id": "54fc10f6-3e4b-48d7-ae83-6420194b669a",
   "metadata": {},
   "source": [
    "### Part 1"
   ]
  },
  {
   "cell_type": "code",
   "execution_count": 84,
   "id": "10131ded-58de-43b1-8cfd-6b7229ab72d9",
   "metadata": {},
   "outputs": [
    {
     "data": {
      "text/plain": [
       "184"
      ]
     },
     "execution_count": 84,
     "metadata": {},
     "output_type": "execute_result"
    }
   ],
   "source": [
    "with open('inputs/everybody_codes_e2024_q15_p1.txt') as f:\n",
    "    s = f.read().split('\\n')\n",
    "\n",
    "\n",
    "def neighbours(coord,tiles):\n",
    "    x,y = coord\n",
    "    return [t for t in [(x-1,y),(x+1,y),(x,y-1),(x,y+1)] if t in tiles]\n",
    "\n",
    "\n",
    "def bfs(tiles, start, poi):\n",
    "    shortest = {start: 0}\n",
    "    queue = {start}\n",
    "    while len(queue) != 0:\n",
    "        current = queue.pop()\n",
    "        dist = shortest[current]\n",
    "        for tile in neighbours(current, tiles):\n",
    "            if tile not in shortest or shortest[tile] > dist+1:\n",
    "                shortest[tile] = dist+1\n",
    "                queue.add(tile)\n",
    "    return {tile: shortest[tile] for tile in poi}\n",
    "\n",
    "\n",
    "tiles = {(x,y): s[y][x] for y in range(len(s)) for x in range(len(s[0])) if s[y][x] != '#'}\n",
    "start = [(x,y) for (x,y) in tiles if y == 0][0]\n",
    "poi = {tile for tile in tiles if tiles[tile] == 'H'}\n",
    "distances = bfs(tiles,start,poi)\n",
    "2*(min(distances.values()))"
   ]
  },
  {
   "cell_type": "markdown",
   "id": "4396b341-a913-4863-8f00-ef845527b11f",
   "metadata": {},
   "source": [
    "### Part 2"
   ]
  },
  {
   "cell_type": "code",
   "execution_count": 100,
   "id": "bbba6d7d-4444-4c15-a04a-00bbf540ae36",
   "metadata": {},
   "outputs": [
    {
     "data": {
      "text/plain": [
       "512"
      ]
     },
     "execution_count": 100,
     "metadata": {},
     "output_type": "execute_result"
    }
   ],
   "source": [
    "with open('inputs/everybody_codes_e2024_q15_p2.txt') as f:\n",
    "    s = f.read().split('\\n')\n",
    "\n",
    "\n",
    "def to_state(current, left):\n",
    "    return (current, tuple(left))\n",
    "\n",
    "\n",
    "def remaining_poi(left, poi_grouped):\n",
    "    targets = set()\n",
    "    for target in poi_grouped:\n",
    "        if target in left:\n",
    "            targets.update(poi_grouped[target])\n",
    "    return targets\n",
    "\n",
    "\n",
    "def entry(tiles):\n",
    "    return [tile for tile in tiles if tile[1] == 0][0]\n",
    "\n",
    "\n",
    "def get_herbs(poi_grouped, tiles, start):\n",
    "    return [poi for poi in poi_grouped if poi != '.' and poi != tiles[start]]\n",
    "\n",
    "\n",
    "def grouped(poi):\n",
    "    poi_grouped = {}\n",
    "    for p in poi:\n",
    "        poi_grouped[poi[p]] = poi_grouped.get(poi[p], [])\n",
    "        poi_grouped[poi[p]].append(p)\n",
    "    return poi_grouped\n",
    "\n",
    "\n",
    "def shortest_path(tiles, poi, start):\n",
    "    poi_distances = {start: bfs(tiles,start,poi) for start in poi}\n",
    "    poi_grouped = grouped(poi)\n",
    "    herbs = get_herbs(poi_grouped, tiles, start)\n",
    "\n",
    "    state = to_state(start, herbs)\n",
    "    shortest = {state: 0}\n",
    "    queue = {state}\n",
    "    while len(queue) != 0:\n",
    "        state = queue.pop()\n",
    "        length = shortest[state]\n",
    "        (current, left) = state\n",
    "        if current != start and len(left) == 0:\n",
    "            left = [tiles[start]]\n",
    "        for target in remaining_poi(left, poi_grouped):\n",
    "            d = poi_distances[current][target]\n",
    "            new_left = [l for l in left]\n",
    "            new_left.remove(poi[target])\n",
    "            new_state = to_state(target, new_left)\n",
    "            if new_state not in shortest or shortest[new_state] > length+d:\n",
    "                shortest[new_state] = length+d\n",
    "                queue.add(new_state)\n",
    "                \n",
    "    return shortest[to_state(start, [])]\n",
    "\n",
    "\n",
    "tiles = {(x,y): s[y][x] for y in range(len(s)) for x in range(len(s[0])) if s[y][x] not in '#~'}\n",
    "poi = {(x,y): tiles[(x,y)] for (x,y) in tiles if y == 0 or tiles[(x,y)] != '.'}\n",
    "\n",
    "shortest_path(tiles, poi, entry(tiles))"
   ]
  },
  {
   "cell_type": "markdown",
   "id": "cb6289f7-d775-4b92-aeb0-08a9dda97f24",
   "metadata": {},
   "source": [
    "### Part 3"
   ]
  },
  {
   "cell_type": "code",
   "execution_count": 104,
   "id": "244d0ae8-81d1-4df5-a844-cdc53d1b1888",
   "metadata": {},
   "outputs": [
    {
     "data": {
      "text/plain": [
       "1554"
      ]
     },
     "execution_count": 104,
     "metadata": {},
     "output_type": "execute_result"
    }
   ],
   "source": [
    "with open('inputs/everybody_codes_e2024_q15_p3.txt') as f:\n",
    "    s = f.read().split('\\n')\n",
    "\n",
    "\n",
    "def entry(tiles):\n",
    "    options = [tile for tile in tiles if tile[1] == 0 or tiles[tile] in 'ER']\n",
    "    if len(options) == 1:\n",
    "        return options[0]\n",
    "    if tiles[options[0]] == 'E':\n",
    "        return max(options, key=(lambda x: x[0]))\n",
    "    if tiles[options[0]] == 'R':\n",
    "        return min(options, key=(lambda x: x[0]))\n",
    "\n",
    "\n",
    "def get_tiles(s):\n",
    "    tiles = {(x,y): s[y][x] for y in range(len(s)) for x in range(len(s[0])) if s[y][x] not in '#~'}\n",
    "    gate = [tile for tile in tiles if tiles[tile] == 'K']\n",
    "    if len(gate) > 0:\n",
    "        tiles[gate[0]] = 'k'\n",
    "    return tiles\n",
    "\n",
    "\n",
    "def traverse_subgraph(subgraph_data):\n",
    "    sub_tiles = get_tiles(subgraph_data)\n",
    "    start = entry(sub_tiles)\n",
    "    poi = {(x,y): sub_tiles[(x,y)] for (x,y) in sub_tiles if (x,y) == start or (sub_tiles[(x,y)] != '.' and sub_tiles[(x,y)] != sub_tiles[start])}\n",
    "    return shortest_path(sub_tiles, poi, start)\n",
    "\n",
    "\n",
    "subgraph_w = len(s[0])//3\n",
    "subgraphs = [[line[subgraph_w*i:subgraph_w*(i+1)] for line in s] for i in range(3)]\n",
    "\n",
    "sum([traverse_subgraph(sg) for sg in subgraphs]) + 4*3"
   ]
  },
  {
   "cell_type": "markdown",
   "id": "dbe219ea-d1aa-456c-a973-05b481b2801b",
   "metadata": {},
   "source": [
    "## Quest 16"
   ]
  },
  {
   "cell_type": "markdown",
   "id": "ebdb36b8-674b-4240-aea4-d4b74b5de89d",
   "metadata": {},
   "source": [
    "### Part 1"
   ]
  },
  {
   "cell_type": "code",
   "execution_count": 194,
   "id": "7c897a27-54ee-47ed-abe1-f3b8c248c0c3",
   "metadata": {},
   "outputs": [
    {
     "data": {
      "text/plain": [
       "'*,* ^.- *_> *,*'"
      ]
     },
     "execution_count": 194,
     "metadata": {},
     "output_type": "execute_result"
    }
   ],
   "source": [
    "with open('inputs/everybody_codes_e2024_q16_p1.txt') as f:\n",
    "    s = f.read().split('\\n\\n')\n",
    "\n",
    "\n",
    "def parse_line(line):\n",
    "    return [line[4*i:4*(i+1)-1] for i in range((len(line)+1)//4)]\n",
    "\n",
    "\n",
    "def parse_strips(st, n):\n",
    "    strips = []\n",
    "    for _ in range(n):\n",
    "        strips.append([])\n",
    "    for line in st.split('\\n'):\n",
    "        for i,cat in enumerate(parse_line(line)):\n",
    "            if ' ' not in cat:\n",
    "                strips[i].append(cat)\n",
    "    return tuple(tuple(strip) for strip in strips)\n",
    "\n",
    "\n",
    "def parse(s):\n",
    "    rotations = tuple(int(i) for i in s[0].split(','))\n",
    "    strips = parse_strips(s[1], len(rotations))\n",
    "    return (rotations, strips)\n",
    "\n",
    "\n",
    "def get(strip, n):\n",
    "    return strip[n%len(strip)]\n",
    "\n",
    "\n",
    "def get_all(strips, rotations, n):\n",
    "    return [get(strips[i], rotations[i]*n) for i in range(len(strips))]\n",
    "\n",
    "\n",
    "rotations, strips = parse(s)\n",
    "' '.join(get_all(strips, rotations, 100))"
   ]
  },
  {
   "cell_type": "markdown",
   "id": "5d679cd2-8a09-4cc5-9a71-a8f730ddf1a7",
   "metadata": {},
   "source": [
    "### Part 2"
   ]
  },
  {
   "cell_type": "code",
   "execution_count": 195,
   "id": "5c569636-fc1c-404f-88b0-1e63c7266a4f",
   "metadata": {},
   "outputs": [
    {
     "data": {
      "text/plain": [
       "132299794058"
      ]
     },
     "execution_count": 195,
     "metadata": {},
     "output_type": "execute_result"
    }
   ],
   "source": [
    "with open('inputs/everybody_codes_e2024_q16_p2.txt') as f:\n",
    "    s = f.read().split('\\n\\n')\n",
    "\n",
    "\n",
    "def score(cats):\n",
    "    symbols = []\n",
    "    for cat in cats:\n",
    "        symbols.append(cat[0])\n",
    "        symbols.append(cat[-1])\n",
    "    symbols.sort()\n",
    "    score = 0\n",
    "    counter = 1\n",
    "    for i in range(1,len(symbols)):\n",
    "        if symbols[i] == symbols[i-1]:\n",
    "            counter += 1\n",
    "        else:\n",
    "            score += (counter - 2) if counter >= 3 else 0\n",
    "            counter = 1\n",
    "    score += (counter - 2) if counter >= 3 else 0\n",
    "    return score\n",
    "\n",
    "\n",
    "def div_exists(numbers, d):\n",
    "    for n in numbers:\n",
    "        if n % d == 0:\n",
    "            return True\n",
    "    return False\n",
    "\n",
    "\n",
    "def lcm(numbers):\n",
    "    mx = max(numbers)\n",
    "    a = 1\n",
    "    for d in range(2,mx+1):\n",
    "        while div_exists(numbers, d):\n",
    "            a *= d\n",
    "            numbers = [n//d if n%d == 0 else n for n in numbers]\n",
    "    return a\n",
    "\n",
    "\n",
    "def score_in_rounds(rotations, strips, n):\n",
    "    sc = 0\n",
    "    for i in range(1,n+1):\n",
    "        sc += score(tuple(get_all(strips, rotations, i)))\n",
    "    return sc\n",
    "\n",
    "\n",
    "rotations, strips = parse(s)\n",
    "pulls = 202420242024\n",
    "loop_length = lcm([len(strip) for strip in strips])\n",
    "loop_score = score_in_rounds(rotations, strips, loop_length)\n",
    "loops = pulls // loop_length\n",
    "remaining = pulls % loop_length\n",
    "\n",
    "loop_score * loops + score_in_rounds(rotations, strips, remaining)"
   ]
  },
  {
   "cell_type": "markdown",
   "id": "86cf12f4-ee17-49e4-91c2-d24fcbc07634",
   "metadata": {},
   "source": [
    "### Part 3"
   ]
  },
  {
   "cell_type": "code",
   "execution_count": 255,
   "id": "6eb7fc86-1d65-4d88-9679-07f4305d6ec6",
   "metadata": {},
   "outputs": [
    {
     "data": {
      "text/plain": [
       "(602, 70)"
      ]
     },
     "execution_count": 255,
     "metadata": {},
     "output_type": "execute_result"
    }
   ],
   "source": [
    "with open('inputs/everybody_codes_e2024_q16_p3.txt') as f:\n",
    "    s = f.read().split('\\n\\n')\n",
    "\n",
    "@cache\n",
    "def adjusted_rotations(rotations, strips, times, adj):\n",
    "    return tuple((r*times+adj)%len(strips[i]) for i,r in enumerate(rotations))\n",
    "\n",
    "@cache\n",
    "def resolve(adjusted, strips):\n",
    "    cats = get_all(strips, adjusted, 1)\n",
    "    return score(cats)\n",
    "\n",
    "\n",
    "rotations, strips = parse(s)\n",
    "pulls = 256\n",
    "adjusted_rotations(rotations, strips, 1, 0)\n",
    "\n",
    "scores = {(0, 0): (0,0)}\n",
    "queue = {sc for sc in scores}\n",
    "\n",
    "while len(queue) > 0:\n",
    "    (times, adjustments) = queue.pop()\n",
    "    (min_sc, max_sc) = scores[(times, adjustments)]\n",
    "    options = {(times+1, adjustments+a): resolve(adjusted_rotations(rotations, strips, times+1, adjustments+a), strips) for a in [-1,0,1]}\n",
    "    options = {o:options[o] for o in options if o not in scores or min_sc+options[o] < scores[o][0] or max_sc+options[o] > scores[o][1]}\n",
    "    for o in options:\n",
    "        if o not in scores:\n",
    "            scores[o] = (min_sc+options[o], max_sc+options[o])\n",
    "        else:\n",
    "            scores[o] = (min(min_sc+options[o], scores[o][0]), max(max_sc+options[o], scores[o][1]))\n",
    "        if o[0] < pulls:\n",
    "            queue.add(o)\n",
    "    \n",
    "final_scores = [scores[(times, adjustments)] for (times, adjustments) in scores if times == pulls]\n",
    "\n",
    "(max([sc[1] for sc in final_scores]), min([sc[0] for sc in final_scores]))"
   ]
  },
  {
   "cell_type": "markdown",
   "id": "7e3695c2-a643-442c-9a34-c53159c4d542",
   "metadata": {},
   "source": [
    "## Quest 17"
   ]
  },
  {
   "cell_type": "markdown",
   "id": "b7e0a66e-dc32-427c-9576-70337d357dc1",
   "metadata": {},
   "source": [
    "### Part 1"
   ]
  },
  {
   "cell_type": "code",
   "execution_count": 309,
   "id": "b3495132-f678-4b73-8e07-35f912ae26bc",
   "metadata": {},
   "outputs": [
    {
     "data": {
      "text/plain": [
       "138"
      ]
     },
     "execution_count": 309,
     "metadata": {},
     "output_type": "execute_result"
    }
   ],
   "source": [
    "with open('inputs/everybody_codes_e2024_q17_p1.txt') as f:\n",
    "    s = f.read().split('\\n')\n",
    "\n",
    "\n",
    "def manhattan(star1, star2):\n",
    "    (x1,y1) = star1\n",
    "    (x2,y2) = star2\n",
    "    return abs(x1-x2) + abs(y1-y2)\n",
    "\n",
    "\n",
    "def distances(stars):\n",
    "    dist = {}\n",
    "    for star1 in stars:\n",
    "        dist[star1] = {}\n",
    "        for star2 in stars:\n",
    "            if star1 != star2:\n",
    "                dist[star1][star2] = manhattan(star1,star2)\n",
    "    return dist\n",
    "\n",
    "\n",
    "def pick_closest(done, distances):\n",
    "    remaining = {star for star in distances if star not in done}\n",
    "    conn_distances = {(star1, star2): distances[star1][star2] for star2 in remaining for star1 in done}\n",
    "    pick = min(conn_distances, key=conn_distances.get)\n",
    "    return (pick[1], distances[pick[0]][pick[1]])\n",
    "\n",
    "\n",
    "def prim(stars):\n",
    "    dist = distances(stars)\n",
    "    done = {stars[0]}\n",
    "    length = 0\n",
    "    while len(dist) > len(done):\n",
    "        nxt, d = pick_closest(done, dist)\n",
    "        done.add(nxt)\n",
    "        length += d\n",
    "    return length + len(stars)\n",
    "\n",
    "\n",
    "stars = [(x,y) for y in range(len(s)) for x in range(len(s[0])) if s[y][x] == '*']\n",
    "prim(stars)"
   ]
  },
  {
   "cell_type": "markdown",
   "id": "c6faebea-359c-4766-b3d0-d3678fd7dbf4",
   "metadata": {},
   "source": [
    "### Part 2"
   ]
  },
  {
   "cell_type": "code",
   "execution_count": 310,
   "id": "9b0862e7-9e13-48b7-b2b7-c8f7e7f73611",
   "metadata": {},
   "outputs": [
    {
     "data": {
      "text/plain": [
       "1287"
      ]
     },
     "execution_count": 310,
     "metadata": {},
     "output_type": "execute_result"
    }
   ],
   "source": [
    "with open('inputs/everybody_codes_e2024_q17_p2.txt') as f:\n",
    "    s = f.read().split('\\n')\n",
    "\n",
    "stars = [(x,y) for y in range(len(s)) for x in range(len(s[0])) if s[y][x] == '*']\n",
    "prim(stars)"
   ]
  },
  {
   "cell_type": "markdown",
   "id": "6135bfe2-96d5-4469-954e-feb3004136d4",
   "metadata": {},
   "source": [
    "### Part 3"
   ]
  },
  {
   "cell_type": "code",
   "execution_count": 344,
   "id": "4fd5d9ed-cd47-467d-9995-188399b56f3d",
   "metadata": {},
   "outputs": [
    {
     "data": {
      "text/plain": [
       "4196767476"
      ]
     },
     "execution_count": 344,
     "metadata": {},
     "output_type": "execute_result"
    }
   ],
   "source": [
    "with open('inputs/everybody_codes_e2024_q17_p3.txt') as f:\n",
    "    s = f.read().split('\\n')\n",
    "\n",
    "\n",
    "def scan_surroundings(star, stars):\n",
    "    (x,y) = star\n",
    "    dist = {}\n",
    "    for xd in range(-5,6):\n",
    "        for yd in range(-5,6):\n",
    "            if not (xd == 0 and yd == 0) and (x+xd, y+yd) in stars:\n",
    "                d = manhattan(star, (x+xd, y+yd))\n",
    "                if d < 6:\n",
    "                    dist[(x+xd, y+yd)] = d\n",
    "    return dist\n",
    "\n",
    "\n",
    "def bfs(start, stars):\n",
    "    included = []\n",
    "    queue = {start}\n",
    "    while len(queue) > 0:\n",
    "        current = queue.pop()\n",
    "        for star in stars[current]:\n",
    "            if star not in included:\n",
    "                queue.add(star)\n",
    "                included.append(star)\n",
    "    return included\n",
    "\n",
    "\n",
    "def identify_constellations(stars):\n",
    "    constellations = []\n",
    "    used = set()\n",
    "    while len(used) < len(stars):\n",
    "        candidates = [star for star in stars if star not in used]\n",
    "        cons = bfs(candidates[0], stars)\n",
    "        constellations.append(cons)\n",
    "        used.update(cons)\n",
    "    return constellations\n",
    "\n",
    "\n",
    "stars = [(x,y) for y in range(len(s)) for x in range(len(s[0])) if s[y][x] == '*']\n",
    "candidates = {}\n",
    "for star in stars:\n",
    "    d = scan_surroundings(star, stars)\n",
    "    if len(d) > 0:\n",
    "        candidates[star] = d\n",
    "\n",
    "constellations = sorted([prim(const) for const in identify_constellations(candidates)])\n",
    "\n",
    "a = 1\n",
    "for c in constellations[-3:]:\n",
    "    a *= c\n",
    "\n",
    "a"
   ]
  },
  {
   "cell_type": "markdown",
   "id": "d2b6c7f8-1fd2-4c4e-8a3b-84157e5e73ea",
   "metadata": {},
   "source": [
    "## Quest 18"
   ]
  },
  {
   "cell_type": "markdown",
   "id": "19c5e62b-c885-4161-808c-e978a4730eeb",
   "metadata": {},
   "source": [
    "### Part 1"
   ]
  },
  {
   "cell_type": "code",
   "execution_count": 44,
   "id": "075ee2a6-08f7-45be-8211-2e0b01e7e4c6",
   "metadata": {},
   "outputs": [
    {
     "data": {
      "text/plain": [
       "109"
      ]
     },
     "execution_count": 44,
     "metadata": {},
     "output_type": "execute_result"
    }
   ],
   "source": [
    "with open('inputs/everybody_codes_e2024_q18_p1.txt') as f:\n",
    "    s = f.read().split('\\n')\n",
    "\n",
    "\n",
    "def neighbours(coord, channel):\n",
    "    (x,y) = coord\n",
    "    return [(x+xd, y+yd) for (xd, yd) in [(1,0),(-1,0),(0,1),(0,-1)] if (x+xd, y+yd) in channel]\n",
    "\n",
    "\n",
    "def bfs(starts, channel):\n",
    "    distances = {s:0 for s in starts}\n",
    "    queue = {s for s in distances}\n",
    "    while len(queue) > 0:\n",
    "        current = queue.pop()\n",
    "        d = distances[current]\n",
    "        for nxt in neighbours(current, channel):\n",
    "            if nxt not in distances or distances[current] > d+1:\n",
    "                distances[nxt] = d+1\n",
    "                queue.add(nxt)\n",
    "    return distances\n",
    "\n",
    "\n",
    "channel = {(x,y): s[y][x] for y in range(len(s)) for x in range(len(s[0])) if s[y][x] != '#'}\n",
    "palm = {c for c in channel if channel[c] == 'P'}\n",
    "starts = {(x,y) for (x,y) in channel if x == 0 or y == 0 or x == len(s[0])-1 or y == len(s)-1}\n",
    "\n",
    "distances = bfs(starts, channel)\n",
    "max([distances[c] for c in distances if c in palm])"
   ]
  },
  {
   "cell_type": "markdown",
   "id": "d17c4b43-2cf5-43c1-9874-ea741e2453a1",
   "metadata": {},
   "source": [
    "### Part 2"
   ]
  },
  {
   "cell_type": "code",
   "execution_count": 45,
   "id": "3cb50927-bc8b-4073-8c9a-459a3559c570",
   "metadata": {},
   "outputs": [
    {
     "data": {
      "text/plain": [
       "2019"
      ]
     },
     "execution_count": 45,
     "metadata": {},
     "output_type": "execute_result"
    }
   ],
   "source": [
    "with open('inputs/everybody_codes_e2024_q18_p2.txt') as f:\n",
    "    s = f.read().split('\\n')\n",
    "\n",
    "channel = {(x,y): s[y][x] for y in range(len(s)) for x in range(len(s[0])) if s[y][x] != '#'}\n",
    "palm = {c for c in channel if channel[c] == 'P'}\n",
    "starts = {(x,y) for (x,y) in channel if x == 0 or y == 0 or x == len(s[0])-1 or y == len(s)-1}\n",
    "\n",
    "distances = bfs(starts, channel)\n",
    "max([distances[c] for c in distances if c in palm])"
   ]
  },
  {
   "cell_type": "markdown",
   "id": "9df6741a-cf3e-420b-a7af-8b74e83e7e02",
   "metadata": {},
   "source": [
    "### Part 3"
   ]
  },
  {
   "cell_type": "code",
   "execution_count": 51,
   "id": "46083ad5-edec-4ce4-a068-98968ae975d3",
   "metadata": {},
   "outputs": [
    {
     "data": {
      "text/plain": [
       "258723"
      ]
     },
     "execution_count": 51,
     "metadata": {},
     "output_type": "execute_result"
    }
   ],
   "source": [
    "with open('inputs/everybody_codes_e2024_q18_p3.txt') as f:\n",
    "    s = f.read().split('\\n')\n",
    "\n",
    "\n",
    "def poi(channel, palm):\n",
    "    result = {coord for coord in channel if len(neighbours(coord,channel)) > 2 and channel[coord] == '.'}\n",
    "    for p in palm:\n",
    "        ch = {c for c in neighbours(p, channel) if c not in palm}\n",
    "        result.update(ch)\n",
    "    return result\n",
    "\n",
    "\n",
    "def value(distances, palm):\n",
    "    return sum([distances[c] for c in distances if c in palm])\n",
    "\n",
    "\n",
    "channel = {(x,y): s[y][x] for y in range(len(s)) for x in range(len(s[0])) if s[y][x] != '#'}\n",
    "palm = {c for c in channel if channel[c] == 'P'}\n",
    "entries = poi(channel, palm)\n",
    "\n",
    "min([value(bfs({start}, channel), palm) for start in entries])"
   ]
  },
  {
   "cell_type": "markdown",
   "id": "ad078427-8f06-4f1d-9af8-d0b1f05ef5ea",
   "metadata": {},
   "source": [
    "## Quest 19"
   ]
  },
  {
   "cell_type": "markdown",
   "id": "f44f219f-f769-44bd-ad6f-98ebba5babe0",
   "metadata": {},
   "source": [
    "### Part 1"
   ]
  },
  {
   "cell_type": "code",
   "execution_count": 65,
   "id": "272d6aac-4be3-465c-9105-024544205b28",
   "metadata": {},
   "outputs": [
    {
     "data": {
      "text/plain": [
       "'3383879875187498'"
      ]
     },
     "execution_count": 65,
     "metadata": {},
     "output_type": "execute_result"
    }
   ],
   "source": [
    "with open('inputs/everybody_codes_e2024_q19_p1.txt') as f:\n",
    "    s = f.read().split('\\n\\n')\n",
    "\n",
    "neighbours = [(-1,-1), (0,-1), (1,-1), (1,0), (1,1), (0,1), (-1,1), (-1,0)]\n",
    "\n",
    "\n",
    "def is_rotation_point(coord, grid):\n",
    "    (x,y) = coord\n",
    "    for (xd,yd) in neighbours:\n",
    "            if (x+xd,y+yd) not in grid:\n",
    "                return False\n",
    "    return True\n",
    "\n",
    "\n",
    "def roration_points(grid):\n",
    "    rotation_points = [c for c in grid if is_rotation_point(c,grid)]\n",
    "    rotation_points.sort(key=lambda c: c[0])\n",
    "    rotation_points.sort(key=lambda c: c[1])\n",
    "    return rotation_points\n",
    "\n",
    "\n",
    "def rotate_with(coord, grid_t, d):\n",
    "    (x,y) = coord\n",
    "    grid_t_d = {}\n",
    "    for i,(xd,yd) in enumerate(neighbours):\n",
    "        (xdd,ydd) = neighbours[(i+d)%len(neighbours)]\n",
    "        grid_t_d[(x+xd,y+yd)] = grid_t[(x+xdd,y+ydd)]\n",
    "    grid_t.update(grid_t_d)\n",
    "    return grid_t\n",
    "\n",
    "\n",
    "def rotate_left(coord, grid_t):\n",
    "    return rotate_with(coord, grid_t, 1)\n",
    "\n",
    "\n",
    "def rotate_right(coord, grid_t):\n",
    "    return rotate_with(coord, grid_t, -1)\n",
    "\n",
    "\n",
    "def rotate(coord, grid_t, d):\n",
    "    if d == 'L':\n",
    "        return rotate_left(coord, grid_t)\n",
    "    if d == 'R':\n",
    "        return rotate_right(coord, grid_t)\n",
    "\n",
    "\n",
    "def transition_map(grid):\n",
    "    rotation = roration_points(grid)\n",
    "    grid_t = {c:c for c in grid}\n",
    "    for i,r in enumerate(rotation):\n",
    "        grid_t.update(rotate(r, grid_t, sequence[i%len(sequence)]))\n",
    "    return grid_t\n",
    "\n",
    "  \n",
    "def map_to_grid(grid, grid_t):\n",
    "    return {c: grid[grid_t[c]] for c in grid}\n",
    "\n",
    "\n",
    "def extract_message(grid, grid_t, message_block):\n",
    "    finished = map_to_grid(grid, grid_t)\n",
    "    block = [''.join([finished[(x,y)] for x in range(len(message_block[0]))]) for y in range(len(message_block))]\n",
    "    for line in block:\n",
    "        if '>' in line:\n",
    "            return line[line.index('>')+1:line.index('<')]\n",
    "\n",
    "\n",
    "sequence = list(s[0])\n",
    "message_block = s[1].split('\\n')\n",
    "grid = {(x,y): message_block[y][x] for y in range(len(message_block)) for x in range(len(message_block[0]))}\n",
    "grid_t = transition_map(grid)\n",
    "\n",
    "extract_message(grid, grid_t, message_block)"
   ]
  },
  {
   "cell_type": "markdown",
   "id": "0f6b28e0-4195-424a-9c7e-e0942c9888d9",
   "metadata": {},
   "source": [
    "### Part 2"
   ]
  },
  {
   "cell_type": "code",
   "execution_count": 87,
   "id": "d6a44937-6ec9-4c55-ac8a-956a1c155af0",
   "metadata": {},
   "outputs": [
    {
     "data": {
      "text/plain": [
       "'7499826717798836'"
      ]
     },
     "execution_count": 87,
     "metadata": {},
     "output_type": "execute_result"
    }
   ],
   "source": [
    "with open('inputs/everybody_codes_e2024_q19_p2.txt') as f:\n",
    "    s = f.read().split('\\n\\n')\n",
    "\n",
    "\n",
    "def coord_states(grid_t, coord):\n",
    "    states = []\n",
    "    new_coord = coord\n",
    "    while new_coord not in states:\n",
    "        states.append(new_coord)\n",
    "        new_coord = grid_t[new_coord]\n",
    "    return states\n",
    "\n",
    "\n",
    "def rotate_times(grid, n):\n",
    "    grid_t = transition_map(grid)\n",
    "    states = {coord: coord_states(grid_t, coord) for coord in grid}\n",
    "    return {coord: states[coord][n%(len(states[coord]))] for coord in grid}\n",
    "\n",
    "\n",
    "repeats = 100\n",
    "sequence = list(s[0])\n",
    "message_block = s[1].split('\\n')\n",
    "grid = {(x,y): message_block[y][x] for y in range(len(message_block)) for x in range(len(message_block[0]))}\n",
    "grid_t = rotate_times(grid, repeats)\n",
    "\n",
    "extract_message(grid, grid_t, message_block)"
   ]
  },
  {
   "cell_type": "markdown",
   "id": "71bf27a5-ab82-47d9-bba6-12e7ce240c5a",
   "metadata": {},
   "source": [
    "### Part 3"
   ]
  },
  {
   "cell_type": "code",
   "execution_count": 88,
   "id": "99d173a8-1ca9-4eae-890b-56eadaf05a9b",
   "metadata": {},
   "outputs": [
    {
     "data": {
      "text/plain": [
       "'7916612696577239'"
      ]
     },
     "execution_count": 88,
     "metadata": {},
     "output_type": "execute_result"
    }
   ],
   "source": [
    "with open('inputs/everybody_codes_e2024_q19_p3.txt') as f:\n",
    "    s = f.read().split('\\n\\n')\n",
    "\n",
    "repeats = 1048576000\n",
    "sequence = list(s[0])\n",
    "message_block = s[1].split('\\n')\n",
    "grid = {(x,y): message_block[y][x] for y in range(len(message_block)) for x in range(len(message_block[0]))}\n",
    "grid_t = rotate_times(grid, repeats)\n",
    "\n",
    "extract_message(grid, grid_t, message_block)"
   ]
  },
  {
   "cell_type": "markdown",
   "id": "75a9bfdb-17f0-4eb4-9e2d-49453cc57236",
   "metadata": {},
   "source": [
    "## Quest 20"
   ]
  },
  {
   "cell_type": "markdown",
   "id": "4dd8ca81-de99-4109-9f38-6e568ad2d6bf",
   "metadata": {},
   "source": [
    "### Part 1"
   ]
  },
  {
   "cell_type": "code",
   "execution_count": 60,
   "id": "f2b2c4f2-f445-4d0b-b509-a2ff9c4e945b",
   "metadata": {},
   "outputs": [
    {
     "data": {
      "text/plain": [
       "1038"
      ]
     },
     "execution_count": 60,
     "metadata": {},
     "output_type": "execute_result"
    }
   ],
   "source": [
    "with open('inputs/everybody_codes_e2024_q20_p1.txt') as f:\n",
    "    s = f.read().split('\\n')\n",
    "\n",
    "\n",
    "def next_tiles(current, facing, grid):\n",
    "    (x,y) = current\n",
    "    (xf, yf) = facing\n",
    "    return [((x+xd,y+yd),(xd,yd)) for (xd,yd) in [(0,1),(0,-1),(1,0),(-1,0)] if (x+xd,y+yd) in grid and not (xf == -xd and yf == -yd)]\n",
    "\n",
    "\n",
    "def adjust_altitude(current, grid, alt):\n",
    "    if grid[current] == '-':\n",
    "        return alt - 2\n",
    "    if grid[current] == '+':\n",
    "        return alt + 1\n",
    "    return alt - 1\n",
    "\n",
    "\n",
    "grid = {(x,y): s[y][x] for y in range(len(s)) for x in range(len(s[0])) if s[y][x] != '#'}\n",
    "start = [c for c in grid if grid[c] == 'S'][0]\n",
    "facing = (0,1)\n",
    "rounds = 100\n",
    "alt = 1000\n",
    "\n",
    "max_alt = {(start, facing, rounds): alt}\n",
    "queue = {(start, facing, rounds)}\n",
    "while len(queue) != 0:\n",
    "    current = queue.pop()\n",
    "    alt = max_alt[current]\n",
    "    (tile, facing, rounds) = current\n",
    "    if rounds > 0:\n",
    "        for (nxt_tile, nxt_facing) in next_tiles(tile, facing, grid):\n",
    "            new_alt = adjust_altitude(nxt_tile, grid, alt)\n",
    "            new_state = (nxt_tile, nxt_facing, rounds-1) \n",
    "            if new_state not in max_alt or max_alt[new_state] < new_alt:\n",
    "                max_alt[new_state] = new_alt\n",
    "                queue.add(new_state)\n",
    "\n",
    "\n",
    "max({state: max_alt[state] for state in max_alt if state[2] == 0}.values())"
   ]
  },
  {
   "cell_type": "markdown",
   "id": "c79dd95a-836a-44cf-a80b-d28984e1fcfb",
   "metadata": {},
   "source": [
    "### Part 2"
   ]
  },
  {
   "cell_type": "code",
   "execution_count": 166,
   "id": "cacb3dd9-c89a-4ded-87f6-1f6393d835f3",
   "metadata": {},
   "outputs": [
    {
     "data": {
      "text/plain": [
       "522"
      ]
     },
     "execution_count": 166,
     "metadata": {},
     "output_type": "execute_result"
    }
   ],
   "source": [
    "import math\n",
    "\n",
    "with open('inputs/everybody_codes_e2024_q20_p2.txt') as f:\n",
    "    s = f.read().split('\\n')\n",
    "\n",
    "\n",
    "def bfs(start, start_f, end, grid):\n",
    "    shortest = {(start, start_f): (0,0)}\n",
    "    queue = {(start,start_f)}\n",
    "    while len(queue) > 0:\n",
    "        (current, current_f) = queue.pop()\n",
    "        (d, alt) = shortest[(current, current_f)]\n",
    "        for (nxt_tile, nxt_facing) in next_tiles(current, current_f, grid):\n",
    "            new_alt = adjust_altitude(nxt_tile, grid, alt)\n",
    "            new_state = (nxt_tile, nxt_facing)\n",
    "            if new_state not in shortest or shortest[new_state][0]-shortest[new_state][1] > d+1-new_alt:\n",
    "                shortest[new_state] = (d+1, new_alt)\n",
    "                queue.add(new_state)\n",
    "    return {st: shortest[st] for st in shortest if st[0] == end}\n",
    "\n",
    "\n",
    "def shortest_between(start, facing, end, grid):\n",
    "    opts = {}\n",
    "    for f in facing:\n",
    "        opts.update(bfs(start, f, end, grid))\n",
    "    return {o:opts[o] for o in opts if opts[o] == min(opts.values(), key=lambda x: x[0]-x[1])}\n",
    "    return {o:shortest[o] for o in shortest if shortest[o][1] == max(shortest.values(), key=lambda x: x[1])[1]}\n",
    "\n",
    "\n",
    "grid = {(x,y): s[y][x] for y in range(len(s)) for x in range(len(s[0])) if s[y][x] != '#'}\n",
    "poi = {grid[c]: c  for c in grid if grid[c] not in '.+-'}\n",
    "alt = 10000\n",
    "facing = [(0,1), (0,-1), (1,0), (-1,0)]\n",
    "\n",
    "d = 0\n",
    "alt_d = 0\n",
    "for (start, end) in [('S','A'),('A','B'),('B','C'),('C','S')]:\n",
    "    opts = shortest_between(poi[start], facing, poi[end], grid)\n",
    "    facing = [o[1] for o in opts]\n",
    "    (length, alt_diff) = next(iter(opts.values()))\n",
    "    d += length\n",
    "    alt_d += alt_diff\n",
    "\n",
    "\n",
    "time = d\n",
    "if alt_d < 0:\n",
    "    time += math.ceil(abs(alt_d)/2)*2\n",
    "\n",
    "time"
   ]
  },
  {
   "cell_type": "markdown",
   "id": "75d6d875-c07c-4e8d-8569-21e6f19aa765",
   "metadata": {},
   "source": [
    "### Part 3"
   ]
  },
  {
   "cell_type": "code",
   "execution_count": 184,
   "id": "04032d1f-07fb-4183-9b21-425299c170d0",
   "metadata": {},
   "outputs": [
    {
     "data": {
      "text/plain": [
       "768791"
      ]
     },
     "execution_count": 184,
     "metadata": {},
     "output_type": "execute_result"
    }
   ],
   "source": [
    "with open('inputs/everybody_codes_e2024_q20_p3.txt') as f:\n",
    "    s = f.read().split('\\n')\n",
    "\n",
    "\n",
    "symbol_values = {'.': -1, '-': -2, '+': 1, 'S': -1}\n",
    "\n",
    "\n",
    "def col_value(x, s):\n",
    "    symbols = [line[x] for line in s]\n",
    "    if '#' not in symbols:\n",
    "        return sum([symbol_values[c] for c in symbols])\n",
    "\n",
    "\n",
    "grid = {(x,y): s[y][x] for y in range(len(s)) for x in range(len(s[0])) if s[y][x] != '#'}\n",
    "start = [c for c in grid if grid[c] == 'S'][0]\n",
    "col_values = {x: col_value(x, s) for x in range(len(s[0]))}\n",
    "col_values = {x: col_values[x] for x in col_values if col_values[x] is not None}\n",
    "\n",
    "best_cols = [x for x in col_values if col_values[x] == max(col_values.values())]\n",
    "best_col = min(best_cols, key=lambda x: abs(x-start[0]))\n",
    "best_col_value = col_values[best_col]\n",
    "\n",
    "alt = 384400\n",
    "\n",
    "repeats = (alt - abs(start[0]-best_col)) // abs(best_col_value)\n",
    "\n",
    "(repeats+1) * len(s) - 1"
   ]
  }
 ],
 "metadata": {
  "kernelspec": {
   "display_name": "Python 3 (ipykernel)",
   "language": "python",
   "name": "python3"
  },
  "language_info": {
   "codemirror_mode": {
    "name": "ipython",
    "version": 3
   },
   "file_extension": ".py",
   "mimetype": "text/x-python",
   "name": "python",
   "nbconvert_exporter": "python",
   "pygments_lexer": "ipython3",
   "version": "3.12.7"
  }
 },
 "nbformat": 4,
 "nbformat_minor": 5
}
