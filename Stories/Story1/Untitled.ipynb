{
 "cells": [
  {
   "cell_type": "markdown",
   "id": "65f013a7-42a9-4e7e-81fe-ccf27487e5b5",
   "metadata": {},
   "source": [
    "# Sroty 1"
   ]
  },
  {
   "cell_type": "markdown",
   "id": "d3eeebec-03f9-4922-a00a-8ea7c0ad68ff",
   "metadata": {},
   "source": [
    "## Quest 1"
   ]
  },
  {
   "cell_type": "markdown",
   "id": "db365500-cd5c-4738-bce2-45eb0a5734fd",
   "metadata": {},
   "source": [
    "### Part 1"
   ]
  },
  {
   "cell_type": "code",
   "execution_count": 13,
   "id": "e251bc3e-6902-4df4-b40b-8083fcd8e5b5",
   "metadata": {},
   "outputs": [
    {
     "data": {
      "text/plain": [
       "2279023507"
      ]
     },
     "execution_count": 13,
     "metadata": {},
     "output_type": "execute_result"
    }
   ],
   "source": [
    "import re\n",
    "\n",
    "with open('inputs/everybody_codes_e1_q01_p1.txt') as f:\n",
    "    s = f.read().split('\\n')\n",
    "\n",
    "\n",
    "def parse(eq):\n",
    "    return tuple(int(x) for x in re.findall('\\\\d+', eq))\n",
    "\n",
    "\n",
    "def eni(n, exp, mod):\n",
    "    l = []\n",
    "    val = 1\n",
    "    for _ in range(exp):\n",
    "        val = (val*n) % mod\n",
    "        l.append(str(val))\n",
    "    return int(''.join(l[::-1]))\n",
    "\n",
    "\n",
    "def calculate(eq):\n",
    "    (a,b,c,x,y,z,m) = parse(eq)\n",
    "    return eni(a,x,m) + eni(b,y,m) + eni(c,z,m)\n",
    "\n",
    "\n",
    "max([calculate(eq) for eq in s])"
   ]
  },
  {
   "cell_type": "markdown",
   "id": "049d35d2-de39-473e-a2d1-16acb475c52f",
   "metadata": {},
   "source": [
    "### Part 2"
   ]
  },
  {
   "cell_type": "code",
   "execution_count": 199,
   "id": "444b3d8f-888e-43b5-9216-b8aca235cde4",
   "metadata": {},
   "outputs": [
    {
     "data": {
      "text/plain": [
       "105631190755985"
      ]
     },
     "execution_count": 199,
     "metadata": {},
     "output_type": "execute_result"
    }
   ],
   "source": [
    "with open('inputs/everybody_codes_e1_q01_p2.txt') as f:\n",
    "    s = f.read().split('\\n')\n",
    "\n",
    "\n",
    "def memoize_all(n, exp, mod):\n",
    "    cache = {}\n",
    "    exp_cache = {}\n",
    "    cycles = {}\n",
    "    \n",
    "    val = n\n",
    "    e = 1\n",
    "    while (val, n, mod) not in cache:\n",
    "        val_new = (val*n) % mod\n",
    "        exp_cache[(n,e,mod)] = val\n",
    "        cache[(val, n, mod)] = (val_new, e)\n",
    "        val = val_new\n",
    "        e += 1\n",
    "    cycle_start = cache[(val, n, mod)][1]\n",
    "    cycle_length = e - cycle_start\n",
    "    cycles[(n, mod)] = (cycle_start, cycle_length)\n",
    "\n",
    "    return (exp_cache, cycles)\n",
    "\n",
    "\n",
    "def value_at(n, exp, mod, exp_cache, cycles):\n",
    "    (cycle_start, cycle_length) = cycles[(n, mod)]\n",
    "    adjusted_exp = exp if exp < cycle_start else ((exp - cycle_start) % cycle_length) + cycle_start\n",
    "    return exp_cache[(n, adjusted_exp, mod)]\n",
    "\n",
    "\n",
    "def eni(n, exp, mod):\n",
    "    (exp_cache, cycles) = memoize_all(n,exp,mod)\n",
    "    \n",
    "    l = []\n",
    "    for i in range(5):\n",
    "        l.append(str(value_at(n, exp-i, mod, exp_cache, cycles)))\n",
    "    return int(''.join(l))\n",
    "\n",
    "\n",
    "def calculate(eq):\n",
    "    (a,b,c,x,y,z,m) = parse(eq)\n",
    "    return eni(a,x,m) + eni(b,y,m) + eni(c,z,m)\n",
    "\n",
    "\n",
    "max([calculate(eq) for eq in s])"
   ]
  },
  {
   "cell_type": "markdown",
   "id": "fd8eb058-6fa3-4fa9-91a6-f6ac11e88a2b",
   "metadata": {},
   "source": [
    "### Part 3"
   ]
  },
  {
   "cell_type": "code",
   "execution_count": 200,
   "id": "7b700cc1-aba2-40f5-b1a7-0c4c01db02b3",
   "metadata": {},
   "outputs": [
    {
     "data": {
      "text/plain": [
       "602895845035823"
      ]
     },
     "execution_count": 200,
     "metadata": {},
     "output_type": "execute_result"
    }
   ],
   "source": [
    "with open('inputs/everybody_codes_e1_q01_p3.txt') as f:\n",
    "    s = f.read().split('\\n')\n",
    "\n",
    "\n",
    "def offset_sum(n, exp, mod, exp_cache, cycles):\n",
    "    (cycle_start, _) = cycles[(n, mod)]\n",
    "    return sum([value_at(n, e, mod, exp_cache, cycles) for e in range(1,cycle_start)])\n",
    "\n",
    "\n",
    "def cycle_sum(n, exp, mod, exp_cache, cycles):\n",
    "    (cycle_start, cycle_length) = cycles[(n, mod)]\n",
    "    return sum([value_at(n, e, mod, exp_cache, cycles) for e in range(cycle_start, cycle_start+cycle_length)])\n",
    "\n",
    "\n",
    "def eni(n, exp, mod):\n",
    "    (exp_cache, cycles) = memoize_all(n,exp,mod)\n",
    "    \n",
    "    (cycle_start, cycle_length) = cycles[(n, mod)]\n",
    "    cycle_count = (exp-cycle_start) // cycle_length\n",
    "    next_cycle_start = cycle_start + cycle_count*cycle_length\n",
    "    offset_acc = offset_sum(n,exp,mod,exp_cache,cycles)\n",
    "    full_cycles_acc = cycle_count*cycle_sum(n,exp,mod,exp_cache,cycles) \n",
    "    remaining_cycle_acc = sum([value_at(n,e,mod,exp_cache,cycles) for e in range(next_cycle_start,exp+1)])\n",
    "    return offset_acc + full_cycles_acc + remaining_cycle_acc\n",
    "\n",
    "\n",
    "\n",
    "max([calculate(eq) for eq in s])"
   ]
  }
 ],
 "metadata": {
  "kernelspec": {
   "display_name": "Python 3 (ipykernel)",
   "language": "python",
   "name": "python3"
  },
  "language_info": {
   "codemirror_mode": {
    "name": "ipython",
    "version": 3
   },
   "file_extension": ".py",
   "mimetype": "text/x-python",
   "name": "python",
   "nbconvert_exporter": "python",
   "pygments_lexer": "ipython3",
   "version": "3.12.10"
  }
 },
 "nbformat": 4,
 "nbformat_minor": 5
}
